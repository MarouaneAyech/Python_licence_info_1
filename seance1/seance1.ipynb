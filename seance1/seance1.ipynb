{
  "cells": [
    {
      "cell_type": "markdown",
      "metadata": {
        "id": "T16mcftLAK8j"
      },
      "source": [
        "Variables et types\n",
        "\n",
        "En Python, il y a 4 types de base :\n",
        "*   int (entier)\n",
        "*   float (réel)\n",
        "*   bool (booléen)\n",
        "*   chaine de caractères (str)"
      ]
    },
    {
      "cell_type": "code",
      "execution_count": null,
      "metadata": {
        "id": "P4DFKel0AZaC"
      },
      "outputs": [],
      "source": [
        "# variable de type int et de nom x\n",
        "# En langage C : int x=10\n",
        "# Le langage Python est faiblement typé (weekly typed)\n",
        "x=10"
      ]
    },
    {
      "cell_type": "markdown",
      "metadata": {
        "id": "FktKcmO1EfkB"
      },
      "source": [
        "**Le langage Python est faiblement typé (weekly typed)**\n",
        "\n",
        "Pour déclarer une variable, on n'indique pas le type explicitement.\n",
        "\n",
        "Plutôt, C'est Python qui déduit le type de la variable à partir de sa valeur"
      ]
    },
    {
      "cell_type": "code",
      "execution_count": null,
      "metadata": {
        "colab": {
          "base_uri": "https://localhost:8080/"
        },
        "id": "JUHDpojD_Oq8",
        "outputId": "ee65b9b1-3dae-44d8-87e3-b4bb409597fb"
      },
      "outputs": [
        {
          "data": {
            "text/plain": [
              "int"
            ]
          },
          "execution_count": 4,
          "metadata": {},
          "output_type": "execute_result"
        }
      ],
      "source": [
        "type(x)"
      ]
    },
    {
      "cell_type": "code",
      "execution_count": null,
      "metadata": {
        "id": "TTtTxqGICZLR"
      },
      "outputs": [],
      "source": [
        "# variable de nom x et de type float\n",
        "x=10."
      ]
    },
    {
      "cell_type": "code",
      "execution_count": null,
      "metadata": {
        "colab": {
          "base_uri": "https://localhost:8080/"
        },
        "id": "dnyjhEWeC1IA",
        "outputId": "54fdf905-2fab-401a-cf2d-e809b0548fe6"
      },
      "outputs": [
        {
          "data": {
            "text/plain": [
              "float"
            ]
          },
          "execution_count": 9,
          "metadata": {},
          "output_type": "execute_result"
        }
      ],
      "source": [
        "type(x)"
      ]
    },
    {
      "cell_type": "markdown",
      "metadata": {
        "id": "AuNIF-rhDRiB"
      },
      "source": [
        "**Les commentaires :**\n",
        "\n",
        "En langage C, les commentaires sont écrites en utilisant soit /* code */ soit // code\n",
        "\n",
        "En Python, on utilise plutôt #"
      ]
    },
    {
      "cell_type": "markdown",
      "metadata": {
        "id": "rj2dIypaEDyx"
      },
      "source": [
        "**Python : langage dynamique**\n",
        "\n",
        "En langage C, une variable ne peut avoir qu'un seul type tout au long du programme.\n",
        "\n",
        "En Python, une variable peut changer de type à tout moment"
      ]
    },
    {
      "cell_type": "code",
      "execution_count": null,
      "metadata": {
        "id": "VfuheyHmC2Tp"
      },
      "outputs": [],
      "source": [
        "# déclarer une variable de nom temperature_haute et de type booléen\n",
        "# Le nom de vairable temperature tout court n'est pas significatif\n",
        "# Plutôt, pour une variable booléenne, on a besoin d'un nom qui qualifie l'évènement : \"Est ce que la temperature est haute ?\"\n",
        "# La valeur de cette variable est la reponse à cette question : Soit True soit False\n",
        "temperature_haute=True"
      ]
    },
    {
      "cell_type": "code",
      "execution_count": null,
      "metadata": {
        "colab": {
          "base_uri": "https://localhost:8080/"
        },
        "id": "FOvR_-AIFBLZ",
        "outputId": "a1134d33-6586-4aa7-d68f-e8576163a308"
      },
      "outputs": [
        {
          "data": {
            "text/plain": [
              "bool"
            ]
          },
          "execution_count": 11,
          "metadata": {},
          "output_type": "execute_result"
        }
      ],
      "source": [
        "type(temperature_haute)"
      ]
    },
    {
      "cell_type": "code",
      "execution_count": null,
      "metadata": {
        "id": "uXLECqOZFD8-"
      },
      "outputs": [],
      "source": [
        "# Pour stoquer la valeur de temperature, on a besoin d'une variable de type entier (int)\n",
        "# Le nom approprié est temperature\n",
        "temperature=30"
      ]
    },
    {
      "cell_type": "code",
      "execution_count": null,
      "metadata": {
        "id": "3xWBJW1eGSuh"
      },
      "outputs": [],
      "source": [
        "# variable de type chaine de caractères\n",
        "nom=\"Ali\""
      ]
    },
    {
      "cell_type": "code",
      "execution_count": null,
      "metadata": {
        "colab": {
          "base_uri": "https://localhost:8080/"
        },
        "id": "oX2Zt0xaHbtc",
        "outputId": "70393f07-8eff-416a-d97f-896acfc18287"
      },
      "outputs": [
        {
          "data": {
            "text/plain": [
              "str"
            ]
          },
          "execution_count": 15,
          "metadata": {},
          "output_type": "execute_result"
        }
      ],
      "source": [
        "type(nom)"
      ]
    },
    {
      "cell_type": "code",
      "execution_count": null,
      "metadata": {
        "id": "RNiM28rKHdAW"
      },
      "outputs": [],
      "source": [
        "nom='Ali'"
      ]
    },
    {
      "cell_type": "code",
      "execution_count": null,
      "metadata": {
        "id": "KT-BXKYuH-UH"
      },
      "outputs": [],
      "source": [
        "nom='''Ali'''"
      ]
    },
    {
      "cell_type": "code",
      "execution_count": null,
      "metadata": {
        "id": "J3EsRvC2IAfT"
      },
      "outputs": [],
      "source": [
        "nom=\"L'école\""
      ]
    },
    {
      "cell_type": "code",
      "execution_count": null,
      "metadata": {
        "id": "YUL2waffIPvB"
      },
      "outputs": [],
      "source": [
        "nom='Mon est nom est \"Ali\"'"
      ]
    },
    {
      "cell_type": "code",
      "execution_count": null,
      "metadata": {
        "id": "tI6LlK4zIdDI"
      },
      "outputs": [],
      "source": [
        "nom='''L'étudiant s'appelle \"Ali\"'''"
      ]
    },
    {
      "cell_type": "code",
      "execution_count": null,
      "metadata": {
        "colab": {
          "base_uri": "https://localhost:8080/",
          "height": 36
        },
        "id": "VwwXYKQ9ItLl",
        "outputId": "890591c8-5508-43b5-efcd-4fc3f47fe7b3"
      },
      "outputs": [
        {
          "data": {
            "application/vnd.google.colaboratory.intrinsic+json": {
              "type": "string"
            },
            "text/plain": [
              "'L\\'étudiant s\\'appelle \"Ali\"'"
            ]
          },
          "execution_count": 21,
          "metadata": {},
          "output_type": "execute_result"
        }
      ],
      "source": [
        "nom"
      ]
    },
    {
      "cell_type": "code",
      "execution_count": null,
      "metadata": {
        "id": "L6I8ZZKGIvWz"
      },
      "outputs": [],
      "source": [
        "nom='L\\'étudiant s\\'appelle \\\"Ali\\\"'"
      ]
    },
    {
      "cell_type": "code",
      "execution_count": null,
      "metadata": {
        "colab": {
          "base_uri": "https://localhost:8080/",
          "height": 36
        },
        "id": "SboJHu4kJJEs",
        "outputId": "d03a8e93-25b4-4a2d-89e5-1193465ab492"
      },
      "outputs": [
        {
          "data": {
            "application/vnd.google.colaboratory.intrinsic+json": {
              "type": "string"
            },
            "text/plain": [
              "'L\\'étudiant s\\'appelle \"Ali\"'"
            ]
          },
          "execution_count": 23,
          "metadata": {},
          "output_type": "execute_result"
        }
      ],
      "source": [
        "nom"
      ]
    },
    {
      "cell_type": "markdown",
      "metadata": {
        "id": "WN7rQf7dJc_h"
      },
      "source": [
        "**Exercice 1:**\n",
        "\n",
        "Déclarer les variables necerssaires qui caracterisent une personne: son nom, son age, son salaire et est ce qu'il est celibataire ?"
      ]
    },
    {
      "cell_type": "code",
      "execution_count": null,
      "metadata": {
        "id": "UKf7yLdeJJyj"
      },
      "outputs": [],
      "source": [
        "nom=\"Ali\"\n",
        "age=34\n",
        "salaire=1200.7654\n",
        "est_celibataire=False"
      ]
    },
    {
      "cell_type": "markdown",
      "metadata": {
        "id": "3O6Xcwj8KdLh"
      },
      "source": [
        "**Sortie standard (Affichage sur la console)**\n",
        "\n",
        "En langage C, on utilise la fonction printf()\n",
        "\n",
        "En Python, on utilise plutôt print()"
      ]
    },
    {
      "cell_type": "code",
      "execution_count": null,
      "metadata": {
        "colab": {
          "base_uri": "https://localhost:8080/"
        },
        "id": "P9y5ZmoDKURK",
        "outputId": "3e540492-a2c7-45ba-ba92-dd275615c970"
      },
      "outputs": [
        {
          "name": "stdout",
          "output_type": "stream",
          "text": [
            "hello\n"
          ]
        }
      ],
      "source": [
        "print('hello')"
      ]
    },
    {
      "cell_type": "code",
      "execution_count": null,
      "metadata": {
        "colab": {
          "base_uri": "https://localhost:8080/"
        },
        "id": "GnlFEmUCKs8I",
        "outputId": "37d16737-cdd6-4cf1-9b2e-fae6dbe3d367"
      },
      "outputs": [
        {
          "name": "stdout",
          "output_type": "stream",
          "text": [
            "hello\n"
          ]
        }
      ],
      "source": [
        "print(\"hello\")"
      ]
    },
    {
      "cell_type": "code",
      "execution_count": null,
      "metadata": {
        "colab": {
          "base_uri": "https://localhost:8080/"
        },
        "id": "jqrYq1UtKuuR",
        "outputId": "444c1859-b6d1-4366-994f-7d4b761af4f8"
      },
      "outputs": [
        {
          "name": "stdout",
          "output_type": "stream",
          "text": [
            "hello world\n"
          ]
        }
      ],
      "source": [
        "print('hello','world')"
      ]
    },
    {
      "cell_type": "code",
      "execution_count": null,
      "metadata": {
        "colab": {
          "base_uri": "https://localhost:8080/"
        },
        "id": "I-RJn2uWKx99",
        "outputId": "c0a21e31-cc45-4de8-c01e-d2212e151b2a"
      },
      "outputs": [
        {
          "name": "stdout",
          "output_type": "stream",
          "text": [
            "1200.7654\n"
          ]
        }
      ],
      "source": [
        "print(salaire)"
      ]
    },
    {
      "cell_type": "code",
      "execution_count": null,
      "metadata": {
        "colab": {
          "base_uri": "https://localhost:8080/"
        },
        "id": "f1Pd613iK6P2",
        "outputId": "c0664746-29f5-4215-bdaf-7b367367010a"
      },
      "outputs": [
        {
          "name": "stdout",
          "output_type": "stream",
          "text": [
            "34\n"
          ]
        }
      ],
      "source": [
        "print(age)"
      ]
    },
    {
      "cell_type": "code",
      "execution_count": null,
      "metadata": {
        "colab": {
          "base_uri": "https://localhost:8080/"
        },
        "id": "RJsqdSzvK9pi",
        "outputId": "d369b90f-5c12-4962-d692-11d0058078c2"
      },
      "outputs": [
        {
          "name": "stdout",
          "output_type": "stream",
          "text": [
            "Ali\n"
          ]
        }
      ],
      "source": [
        "print(nom)"
      ]
    },
    {
      "cell_type": "code",
      "execution_count": null,
      "metadata": {
        "colab": {
          "base_uri": "https://localhost:8080/"
        },
        "id": "G_boJOZrK-7b",
        "outputId": "2ca08990-70fa-45c3-d7c7-08826ef91376"
      },
      "outputs": [
        {
          "name": "stdout",
          "output_type": "stream",
          "text": [
            "False\n"
          ]
        }
      ],
      "source": [
        "print(est_celibataire)"
      ]
    },
    {
      "cell_type": "markdown",
      "metadata": {
        "id": "uzQGKDa6LEJZ"
      },
      "source": [
        "Afficher toutes les informations de la personne dans un seul message\n",
        "\n",
        "Exemple:\n",
        "\n",
        "Ali a comme salaire 1200.77655 et comme age 34. Celibataire : False"
      ]
    },
    {
      "cell_type": "code",
      "execution_count": null,
      "metadata": {
        "colab": {
          "base_uri": "https://localhost:8080/"
        },
        "id": "CTZeDr5ILA9G",
        "outputId": "2467a884-4479-4992-d1c3-d765858adbc6"
      },
      "outputs": [
        {
          "name": "stdout",
          "output_type": "stream",
          "text": [
            "Ali a comme salaire 1200.7654 et comme age 34 . Celibataire : False\n"
          ]
        }
      ],
      "source": [
        "print(nom,\"a comme salaire\",salaire,\"et comme age\",age,\". Celibataire :\",est_celibataire)"
      ]
    },
    {
      "cell_type": "markdown",
      "metadata": {
        "id": "Ov8Y4R15NB5A"
      },
      "source": [
        "**Entrée standard (à partir du clavier)**\n",
        "\n",
        "En langage C, on saisit les informations en utilisant la fonction scanf()\n",
        "\n",
        "En Python, on le fait avec la fonction input()"
      ]
    },
    {
      "cell_type": "code",
      "execution_count": null,
      "metadata": {
        "colab": {
          "base_uri": "https://localhost:8080/",
          "height": 53
        },
        "id": "24K3dA04M2Lb",
        "outputId": "8b4d836d-293b-4e5d-cb31-a1a7d872ff8c"
      },
      "outputs": [
        {
          "name": "stdout",
          "output_type": "stream",
          "text": [
            "Ali\n"
          ]
        },
        {
          "data": {
            "application/vnd.google.colaboratory.intrinsic+json": {
              "type": "string"
            },
            "text/plain": [
              "'Ali'"
            ]
          },
          "execution_count": 35,
          "metadata": {},
          "output_type": "execute_result"
        }
      ],
      "source": [
        "input()"
      ]
    },
    {
      "cell_type": "markdown",
      "metadata": {
        "id": "B171E5iLNkk6"
      },
      "source": [
        "Si on appelle la fonction input(), on a besoin de specifier :\n",
        "- Message prompt qui indique quoi saisir\n",
        "- Variable qui reçoit la valeur saisie"
      ]
    },
    {
      "cell_type": "code",
      "execution_count": null,
      "metadata": {
        "colab": {
          "base_uri": "https://localhost:8080/"
        },
        "id": "lyCzlyawNT9a",
        "outputId": "e5b0d81d-4785-4971-fdf9-d3607adbcccc"
      },
      "outputs": [
        {
          "name": "stdout",
          "output_type": "stream",
          "text": [
            "Entrer le nom:Ali\n"
          ]
        }
      ],
      "source": [
        "nom=input(\"Entrer le nom:\")"
      ]
    },
    {
      "cell_type": "code",
      "execution_count": null,
      "metadata": {
        "colab": {
          "base_uri": "https://localhost:8080/"
        },
        "id": "KYGPlozON5CA",
        "outputId": "d9addf36-87a8-4461-d6f2-6cfc022ec760"
      },
      "outputs": [
        {
          "name": "stdout",
          "output_type": "stream",
          "text": [
            "Ali\n"
          ]
        }
      ],
      "source": [
        "print(nom)"
      ]
    },
    {
      "cell_type": "markdown",
      "metadata": {
        "id": "2atTQOgQN-Wq"
      },
      "source": [
        "**Exercice:**\n",
        "\n",
        "Ecire le code qui permet de :\n",
        "- saisir deux entiers\n",
        "- calculer la somme\n",
        "- afficher le résultat de calcul\n",
        "\n",
        "Exemple:\n",
        "\n",
        "Entrer un nombre :4\n",
        "\n",
        "Entrer un nombre :5\n",
        "\n",
        "4+5=9"
      ]
    },
    {
      "cell_type": "markdown",
      "metadata": {
        "id": "c0F1gRCyTQ6R"
      },
      "source": [
        "**Remarque:**\n",
        "\n",
        "La fonction input() retourne toujours une chaine de caractères"
      ]
    },
    {
      "cell_type": "code",
      "execution_count": null,
      "metadata": {
        "colab": {
          "base_uri": "https://localhost:8080/"
        },
        "id": "7MC_5pBVN8gt",
        "outputId": "83dbb4e5-f967-4c7f-cde3-cc465e5f2e18"
      },
      "outputs": [
        {
          "name": "stdout",
          "output_type": "stream",
          "text": [
            "Entrer un nombre:4\n",
            "Entrer un nombre:5\n",
            "4 + 5 = 45\n"
          ]
        }
      ],
      "source": [
        "n1=input('Entrer un nombre:')\n",
        "n2=input('Entrer un nombre:')\n",
        "s=n1+n2\n",
        "print(n1,\"+\",n2,\"=\",s)"
      ]
    },
    {
      "cell_type": "markdown",
      "metadata": {
        "id": "Gw3WugfZTZWZ"
      },
      "source": [
        "Remarque:\n",
        "\n",
        "Dans le code ci-dessus,\n",
        "- Dans les deux premières lignes, n1 et n2 sont deux chaibes de caractères\n",
        "-La ligne de code s=n1+n2 a concatiné n1 et n2"
      ]
    },
    {
      "cell_type": "markdown",
      "metadata": {
        "id": "MBytdIKbTpvY"
      },
      "source": [
        "Correction du code:"
      ]
    },
    {
      "cell_type": "code",
      "execution_count": null,
      "metadata": {
        "colab": {
          "base_uri": "https://localhost:8080/"
        },
        "id": "WUQJRcwTTL0j",
        "outputId": "a9d5a222-bf97-4e67-997f-ec950b4652ed"
      },
      "outputs": [
        {
          "name": "stdout",
          "output_type": "stream",
          "text": [
            "Entrer un nombre:4\n",
            "Entrer un nombre:5\n",
            "4 + 5 = 9\n"
          ]
        }
      ],
      "source": [
        "n1=input('Entrer un nombre:')\n",
        "n2=input('Entrer un nombre:')\n",
        "# Convertir n1 en entier\n",
        "n1=int(n1)\n",
        "# Convertir n2 en entier\n",
        "n2=int(n2)\n",
        "# On est sûr que s reçoit la somme de deux entiers n1 et n2\n",
        "s=n1+n2\n",
        "print(n1,\"+\",n2,\"=\",s)"
      ]
    },
    {
      "cell_type": "markdown",
      "metadata": {
        "id": "XNr2d_IQUEVZ"
      },
      "source": [
        "On peut optimiser le code comme suit :\n",
        "\n",
        "    n1=input('Entrer un nombre:')\n",
        "    # Convertir n1 en entier\n",
        "    n1=int(n1)\n",
        "\n",
        "On peut les remplacer par une seule ligne de code :\n",
        "\n",
        "    # Saisir et convertir n1 en entier\n",
        "    n1=int(input('Entrer un nombre:'))"
      ]
    },
    {
      "cell_type": "code",
      "execution_count": null,
      "metadata": {
        "colab": {
          "base_uri": "https://localhost:8080/"
        },
        "id": "1VZcwc3bT847",
        "outputId": "60a2bff6-ab74-4181-cc51-943575fb557a"
      },
      "outputs": [
        {
          "name": "stdout",
          "output_type": "stream",
          "text": [
            "Entrer un nombre:4\n",
            "Entrer un nombre:5\n",
            "4 + 5 = 9\n"
          ]
        }
      ],
      "source": [
        "n1=int(input('Entrer un nombre:'))\n",
        "n2=int(input('Entrer un nombre:'))\n",
        "s=n1+n2\n",
        "print(n1,\"+\",n2,\"=\",s)"
      ]
    },
    {
      "cell_type": "code",
      "execution_count": null,
      "metadata": {
        "id": "9nbaLq2VUbYZ"
      },
      "outputs": [],
      "source": []
    }
  ],
  "metadata": {
    "colab": {
      "provenance": []
    },
    "kernelspec": {
      "display_name": "Python 3",
      "name": "python3"
    },
    "language_info": {
      "name": "python"
    }
  },
  "nbformat": 4,
  "nbformat_minor": 0
}
