{
 "cells": [
  {
   "cell_type": "markdown",
   "metadata": {},
   "source": [
    "<b>Enoncé:</b>\n",
    "\n",
    "- On veut saisir les noms ainsi que les salaires des personnes.\n",
    "- Par la suite, on va faire des traitement sur ces informations."
   ]
  },
  {
   "cell_type": "markdown",
   "metadata": {},
   "source": [
    "<b>Boucle while</b>"
   ]
  },
  {
   "cell_type": "markdown",
   "metadata": {},
   "source": [
    "- Ecrire un code qui permet de saisir les noms et les salaires des personnes.\n",
    "- Veuillez mettre les informations saisies respectivement dans une liste `noms` et `salaires`.\n",
    "- La saisie s'arrête quand l'utilisateur saisse le terme \"stop\" comme nom (qui ne doit pas être ajouté dans la liste noms)"
   ]
  },
  {
   "cell_type": "code",
   "execution_count": null,
   "metadata": {},
   "outputs": [],
   "source": [
    "#?"
   ]
  },
  {
   "cell_type": "markdown",
   "metadata": {},
   "source": [
    "<b>Formattage</b>"
   ]
  },
  {
   "cell_type": "markdown",
   "metadata": {},
   "source": [
    "Affichez les informations saisies comme étant une table selon le format de chaque ligne est :\n",
    "- Le nom sur 15 caractères et aligné à gauche\n",
    "- Le salaire sur 10 caractères, arrondi à 1 chiffre après la virgule et aligné à gauche"
   ]
  },
  {
   "cell_type": "code",
   "execution_count": null,
   "metadata": {},
   "outputs": [],
   "source": [
    "# En utilisant l'opérateur %\n",
    "#?"
   ]
  },
  {
   "cell_type": "code",
   "execution_count": null,
   "metadata": {},
   "outputs": [],
   "source": [
    "# En utilisant la fonction format()\n",
    "#?"
   ]
  },
  {
   "cell_type": "code",
   "execution_count": null,
   "metadata": {},
   "outputs": [],
   "source": [
    "# En utilisant le prefix f\n",
    "#?"
   ]
  },
  {
   "cell_type": "markdown",
   "metadata": {},
   "source": [
    "<b>Les instruction `break` et `continue`</b>"
   ]
  },
  {
   "cell_type": "markdown",
   "metadata": {},
   "source": [
    "En utilisant `continue`, écrire un code qui permet d'ajouter une prime aux salaires seulement si la condition suivante est vraie: Si le salaire est inférieur à 1000, Alors salaire = salaire + 10% de salaire"
   ]
  },
  {
   "cell_type": "code",
   "execution_count": null,
   "metadata": {},
   "outputs": [],
   "source": [
    "#?"
   ]
  },
  {
   "cell_type": "markdown",
   "metadata": {},
   "source": [
    "En utilisnat `break`, écrire un code qui permet:\n",
    "- Saisir le nom d'un employé cible\n",
    "- Si le nom saisi correpond à un nom d'employé dans la liste, alors affichez ses informations selon  le format suivant :\n",
    "  - Le nom est aligné à droite sur 10 caractères.\n",
    "  - Le salaire est aligné à droite sur 10 caractères et arrondi à 1 chiffre."
   ]
  },
  {
   "cell_type": "markdown",
   "metadata": {},
   "source": [
    "#?"
   ]
  }
 ],
 "metadata": {
  "language_info": {
   "name": "python"
  }
 },
 "nbformat": 4,
 "nbformat_minor": 2
}
