{
 "cells": [
  {
   "cell_type": "markdown",
   "metadata": {},
   "source": [
    "<b>Devoir surveillé</b>\n",
    "\n",
    "<b>Module : Programmation Python</b>\n",
    "\n",
    "<b>Classe : Licence info 1</b>\n",
    "\n",
    "<b>Durée : 1H</b>\n",
    "\n",
    "Répondre aux questions en remplaçant le symbole `#?` par le code necessaire"
   ]
  },
  {
   "cell_type": "markdown",
   "metadata": {},
   "source": [
    "<b>Exercice 1 (8 pt)</b>\n",
    "\n",
    "1. Ecrire une ligne de code qui permet de saisir une chaine de caractères `s`. (1 pt)\n",
    "\n",
    "<u>Exemple:</u>\n",
    "\n",
    "    Entrez votre nom :ahmed"
   ]
  },
  {
   "cell_type": "code",
   "execution_count": 36,
   "metadata": {},
   "outputs": [
    {
     "data": {
      "text/plain": [
       "'ahmed'"
      ]
     },
     "execution_count": 36,
     "metadata": {},
     "output_type": "execute_result"
    }
   ],
   "source": [
    "s=#?\n",
    "s"
   ]
  },
  {
   "cell_type": "markdown",
   "metadata": {},
   "source": [
    "2. Ecrire une ligne de code qui permet de supprimer les espaces d'une chaine `s` (1 pt)"
   ]
  },
  {
   "cell_type": "code",
   "execution_count": 22,
   "metadata": {},
   "outputs": [
    {
     "data": {
      "text/plain": [
       "'ahmed'"
      ]
     },
     "execution_count": 22,
     "metadata": {},
     "output_type": "execute_result"
    }
   ],
   "source": [
    "s=\"   a   hm    e    d   \"\n",
    "s.#?\n",
    "s"
   ]
  },
  {
   "cell_type": "markdown",
   "metadata": {},
   "source": [
    "3. Ecrire une ligne de code qui permet de diviser une chaine `s` en sous-chaines en se basant sur le séparateur `,` et les mettre dans une liste `mots` (1 pt)"
   ]
  },
  {
   "cell_type": "code",
   "execution_count": 37,
   "metadata": {},
   "outputs": [
    {
     "data": {
      "text/plain": [
       "['ahmed', 'sonia', 'walid', 'rahma']"
      ]
     },
     "execution_count": 37,
     "metadata": {},
     "output_type": "execute_result"
    }
   ],
   "source": [
    "s=\"ahmed,sonia,walid,rahma\"\n",
    "mots=#?\n",
    "mots"
   ]
  },
  {
   "cell_type": "markdown",
   "metadata": {},
   "source": [
    "4. Ecrire une ligne de code qui permet de rendre la chaine `s` en majuscule (1 pt)"
   ]
  },
  {
   "cell_type": "code",
   "execution_count": 27,
   "metadata": {},
   "outputs": [
    {
     "data": {
      "text/plain": [
       "'AHMED'"
      ]
     },
     "execution_count": 27,
     "metadata": {},
     "output_type": "execute_result"
    }
   ],
   "source": [
    "s='ahmed'\n",
    "#?"
   ]
  },
  {
   "cell_type": "markdown",
   "metadata": {},
   "source": [
    "5. Ecrire une ligne de code qui permet d'extraire les 3 premiers caractères de `s` (1 pt)"
   ]
  },
  {
   "cell_type": "code",
   "execution_count": 28,
   "metadata": {},
   "outputs": [
    {
     "data": {
      "text/plain": [
       "'ahm'"
      ]
     },
     "execution_count": 28,
     "metadata": {},
     "output_type": "execute_result"
    }
   ],
   "source": [
    "s='ahmed'\n",
    "#?"
   ]
  },
  {
   "cell_type": "markdown",
   "metadata": {},
   "source": [
    "6. Ecrire une ligne de code qui permet d'extraire les 3 premiers caractères de `s` en Majuscule (1 pt)"
   ]
  },
  {
   "cell_type": "code",
   "execution_count": 32,
   "metadata": {},
   "outputs": [
    {
     "data": {
      "text/plain": [
       "'AHM'"
      ]
     },
     "execution_count": 32,
     "metadata": {},
     "output_type": "execute_result"
    }
   ],
   "source": [
    "s='ahmed'\n",
    "#?"
   ]
  },
  {
   "cell_type": "markdown",
   "metadata": {},
   "source": [
    "7. Ecrire une ligne de code qui permet de rassembler les chaines de la liste `mots` en une seule chaine en mettant `,` entre les mots (1 pt)"
   ]
  },
  {
   "cell_type": "code",
   "execution_count": 31,
   "metadata": {},
   "outputs": [
    {
     "data": {
      "text/plain": [
       "'ahmed,sonia,raed'"
      ]
     },
     "execution_count": 31,
     "metadata": {},
     "output_type": "execute_result"
    }
   ],
   "source": [
    "mots=['ahmed','sonia','raed']\n",
    "#?"
   ]
  },
  {
   "cell_type": "markdown",
   "metadata": {},
   "source": [
    "8. Ecrire un code qui permet de saisir et vérifier si une chaine `s` est valide (1 pt)\n",
    "\n",
    "    `s` est valide si elle commence et se termine par la lettre `'A'`\n",
    "    Sinon elle est invalide\n",
    "\n",
    "<u>Exemple 1 :</u>\n",
    "\n",
    "        Entrez un nom :AlA\n",
    "        AlA est valide\n",
    "\n",
    "<u>Exemple 2 :</u>\n",
    "\n",
    "        Entrez un nom :Ala\n",
    "        Ala est invalide"
   ]
  },
  {
   "cell_type": "code",
   "execution_count": null,
   "metadata": {},
   "outputs": [],
   "source": [
    "#?"
   ]
  },
  {
   "cell_type": "markdown",
   "metadata": {},
   "source": [
    "<b>Exercice 2 (12 pt)</b>"
   ]
  },
  {
   "cell_type": "markdown",
   "metadata": {},
   "source": [
    "Vous allez utiliser les astuces de l'exercice 1 pour répondre aux questions de l'exercice 2."
   ]
  },
  {
   "cell_type": "markdown",
   "metadata": {},
   "source": [
    "1. Ecrire une ligne de code qui permet de saisir dans une chaine `s` plusieurs noms séparés par `,` avec la possibilité qu'il y a des espaces, comme dans l'exemple ci-dessous (0.5 pt)\n",
    "\n",
    "<u>Exemple:</u>\n",
    "\n",
    "        Entrez des noms : moufida,  salma  ,   Abdelrahman ,  roua"
   ]
  },
  {
   "cell_type": "code",
   "execution_count": 13,
   "metadata": {},
   "outputs": [],
   "source": [
    "s=#?"
   ]
  },
  {
   "cell_type": "code",
   "execution_count": 14,
   "metadata": {},
   "outputs": [
    {
     "data": {
      "text/plain": [
       "' moufida, salma  , Abdelrahman , roua'"
      ]
     },
     "execution_count": 14,
     "metadata": {},
     "output_type": "execute_result"
    }
   ],
   "source": [
    "s"
   ]
  },
  {
   "cell_type": "markdown",
   "metadata": {},
   "source": [
    "2. Ecrire un code qui permet d'extraire la liste des noms `noms` à partir de la chaine `s` (1.5 pt)\n",
    "\n",
    "<u>Exemple:</u>\n",
    "\n",
    "La liste `noms` obtenue :\n",
    "\n",
    "    ['moufida', 'salma', 'Abdelrahman','roua']"
   ]
  },
  {
   "cell_type": "code",
   "execution_count": 15,
   "metadata": {},
   "outputs": [],
   "source": [
    "noms=s.#?"
   ]
  },
  {
   "cell_type": "code",
   "execution_count": 16,
   "metadata": {},
   "outputs": [
    {
     "data": {
      "text/plain": [
       "['moufida', 'salma', 'Abdelrahman', 'roua']"
      ]
     },
     "execution_count": 16,
     "metadata": {},
     "output_type": "execute_result"
    }
   ],
   "source": [
    "noms"
   ]
  },
  {
   "cell_type": "markdown",
   "metadata": {},
   "source": [
    "3. Ecrire un code qui permet de rendre tous les noms de `noms` en majuscule (2 pt)\n",
    "\n",
    "<u>Exemple :</u>\n",
    "\n",
    "La liste `noms` deviendra :\n",
    "\n",
    "        ['MOUFIDA', 'SALMA', 'ABDELRAHMAN', 'ROUA']"
   ]
  },
  {
   "cell_type": "code",
   "execution_count": 17,
   "metadata": {},
   "outputs": [],
   "source": [
    "for i in range(len(noms)):\n",
    "    #?"
   ]
  },
  {
   "cell_type": "code",
   "execution_count": 18,
   "metadata": {},
   "outputs": [
    {
     "data": {
      "text/plain": [
       "['MOUFIDA', 'SALMA', 'ABDELRAHMAN', 'ROUA']"
      ]
     },
     "execution_count": 18,
     "metadata": {},
     "output_type": "execute_result"
    }
   ],
   "source": [
    "noms"
   ]
  },
  {
   "cell_type": "markdown",
   "metadata": {},
   "source": [
    "4. Affichez les 3 premières lettres de chaque nom dans une ligne à part (2 pt)\n",
    "\n",
    "<u>Exemple :</u>\n",
    "\n",
    "L'affichage est normalement :\n",
    "\n",
    "    MOU\n",
    "    SAL\n",
    "    ABD\n",
    "    ROU"
   ]
  },
  {
   "cell_type": "code",
   "execution_count": 19,
   "metadata": {},
   "outputs": [
    {
     "name": "stdout",
     "output_type": "stream",
     "text": [
      "MOU\n",
      "SAL\n",
      "ABD\n",
      "ROU\n"
     ]
    }
   ],
   "source": [
    "for i in range(len(noms)):\n",
    "    #?"
   ]
  },
  {
   "cell_type": "markdown",
   "metadata": {},
   "source": [
    "5. Déterminez le nom le plus long dans la liste `noms` (2 pt)\n",
    "\n",
    "<u>Exemple :</u>\n",
    "\n",
    "On obtient normalement :\n",
    "\n",
    "    Le nom le plus long est ABDELRAHMAN"
   ]
  },
  {
   "cell_type": "code",
   "execution_count": 20,
   "metadata": {},
   "outputs": [
    {
     "name": "stdout",
     "output_type": "stream",
     "text": [
      "Le nom le plus long : ABDELRAHMAN\n"
     ]
    }
   ],
   "source": [
    "#?"
   ]
  },
  {
   "cell_type": "markdown",
   "metadata": {},
   "source": [
    "6. Affichez tous les noms de la liste, chacun dans une ligne à part, sans utiliser la boucle `for` (2 pt)"
   ]
  },
  {
   "cell_type": "code",
   "execution_count": 30,
   "metadata": {},
   "outputs": [
    {
     "name": "stdout",
     "output_type": "stream",
     "text": [
      "MOUFIDA\n",
      "SALMA\n",
      "ABDELRAHMAN\n",
      "ROUA\n"
     ]
    }
   ],
   "source": [
    "#?"
   ]
  },
  {
   "cell_type": "markdown",
   "metadata": {},
   "source": [
    "7. Ecrire un code qui rassemble les 3 dernières lettres des noms ayant une longueur supérieure ou égale à 5, en une seule chaine en mettant en eux `**` (2 pt)\n",
    "\n",
    "<u>Exemple :</u>\n",
    "\n",
    "Dans la liste noms, les noms ayant longueur >=5 sont `MOUFIDA` , `SALMA` , `ABDELRAHMAN`\n",
    "\n",
    "Normalement, on obtient :\n",
    "\n",
    "    IDA**LMA**MAN"
   ]
  },
  {
   "cell_type": "code",
   "execution_count": 35,
   "metadata": {},
   "outputs": [
    {
     "data": {
      "text/plain": [
       "'IDA**LMA**MAN'"
      ]
     },
     "execution_count": 35,
     "metadata": {},
     "output_type": "execute_result"
    }
   ],
   "source": [
    "#?"
   ]
  }
 ],
 "metadata": {
  "kernelspec": {
   "display_name": "ocr",
   "language": "python",
   "name": "python3"
  },
  "language_info": {
   "codemirror_mode": {
    "name": "ipython",
    "version": 3
   },
   "file_extension": ".py",
   "mimetype": "text/x-python",
   "name": "python",
   "nbconvert_exporter": "python",
   "pygments_lexer": "ipython3",
   "version": "3.8.15"
  }
 },
 "nbformat": 4,
 "nbformat_minor": 2
}
