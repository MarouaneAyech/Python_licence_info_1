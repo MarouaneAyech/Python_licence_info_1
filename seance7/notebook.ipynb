{
 "cells": [
  {
   "cell_type": "markdown",
   "metadata": {},
   "source": [
    "<b>Objectifs:</b>\n",
    "- Boucle <font color='red'>while</font>\n",
    "- <font color='red'>Formatage</font> d'une chaine"
   ]
  },
  {
   "cell_type": "markdown",
   "metadata": {},
   "source": [
    "<b>Boucle while</b>\n",
    "- Généralement, on utilise la boucle <font color='red'>while</font> si on connaît pas le nombre d'itérations au préalable.\n",
    "- Son syntaxe :\n",
    "\n",
    "        while condition :\n",
    "            # code d'itération\n",
    "\n",
    "- Dans la pratique, l'utilisation de la boucle while a besoin d'une variable pour \"faire rouler la boucle\"\n",
    "- Il y a 3 actions necessaires sur cette variable :\n",
    "    - Initialiser la variable\n",
    "    - Utiliser la variable dans la condition de while\n",
    "    - Modifier la variable dans l'itération de la boucle\n",
    "\n",
    "<u>Exemple:</u>\n",
    "- Pour afficher les entiers entre 5 et 10 en utilisant la boucle while :"
   ]
  },
  {
   "cell_type": "code",
   "execution_count": 2,
   "metadata": {},
   "outputs": [
    {
     "name": "stdout",
     "output_type": "stream",
     "text": [
      "5\n",
      "6\n",
      "7\n",
      "8\n",
      "9\n",
      "10\n"
     ]
    }
   ],
   "source": [
    "i=5\n",
    "while i<=10:\n",
    "    print(i)\n",
    "    i+=1"
   ]
  },
  {
   "cell_type": "markdown",
   "metadata": {},
   "source": [
    "<u>Exercice:</u>\n",
    "- Ecrire un code qui permet de saisir des noms des personnes et les mettre dans une liste <font color='red'>noms</font>\n",
    "- La saisie s'arrête quand l'utilisateur saisse le terme \"stop\" (qui ne doit pas être ajouté dans la liste noms)"
   ]
  },
  {
   "cell_type": "code",
   "execution_count": null,
   "metadata": {},
   "outputs": [],
   "source": [
    "#?"
   ]
  },
  {
   "cell_type": "markdown",
   "metadata": {},
   "source": [
    "<b>Formattage d'une chaine</b>"
   ]
  },
  {
   "cell_type": "markdown",
   "metadata": {},
   "source": [
    "<u>Exemple:</u>\n",
    "- Etant données les informations d'une personne, on veut afficher sa description."
   ]
  },
  {
   "cell_type": "code",
   "execution_count": 1,
   "metadata": {},
   "outputs": [],
   "source": [
    "nom='Ali'\n",
    "salaire=1200.75\n",
    "age=28"
   ]
  },
  {
   "cell_type": "markdown",
   "metadata": {},
   "source": [
    "- Dezscription demandée :\n",
    "\n",
    "        La personne Ali a un salaire 1200.75 et un age 28.\n",
    "\n",
    "- On utilise l'opérateur de concaténation \"+\" pour générer la description demandée"
   ]
  },
  {
   "cell_type": "code",
   "execution_count": null,
   "metadata": {},
   "outputs": [],
   "source": [
    "descrioption=#?\n",
    "print(description)"
   ]
  },
  {
   "cell_type": "markdown",
   "metadata": {},
   "source": [
    "Maintenant, on veut imposer un <font color='red'>format</font> suivant sur la description :\n",
    "- Le nom occupe toujours 10 caractères\n",
    "- Le salaire toujours occupe 10 caractères\n",
    "- L'age occupe toujours 5 caractères\n",
    "\n",
    "Pour le faire, on doit avoir recours soit à l'opérateur <font color='red'>%</font> soit à la fonction <font color='red'>format</font>"
   ]
  },
  {
   "cell_type": "markdown",
   "metadata": {},
   "source": [
    "<b>Formatage en utilisant l'opérateur %</b>\n",
    "\n",
    "On va utiliser l'opérateur % pour avoir le format de tout à l'heure :"
   ]
  },
  {
   "cell_type": "code",
   "execution_count": null,
   "metadata": {},
   "outputs": [],
   "source": [
    "#?"
   ]
  },
  {
   "cell_type": "markdown",
   "metadata": {},
   "source": [
    "<u>Exercice :</u>\n",
    "\n",
    "1. Soit les informations d'un produit dans un stock: \n",
    "- Son nom \"TV\"\n",
    "- Son prix 1200.75\n",
    "- Sa quantité 5\n",
    "\n",
    "Veuillez afficher un texte qui décrit le produit selon le format suivant :\n",
    "- nom sur 10 caractères et aligné à gauche\n",
    "- suivi par \"|\"\n",
    "- suivi du prix sur 10 caractères aligné à gauche et arrondi à 1 chiffre après la virgule\n",
    "- suivi par \"|#\n",
    "- suivi de la quantité sur 5 caractères et aligné à gauche\n",
    "\n",
    "On obtient normalement la description suivante: `TV   |1200.8   |5`"
   ]
  },
  {
   "cell_type": "code",
   "execution_count": null,
   "metadata": {},
   "outputs": [],
   "source": [
    "#?"
   ]
  },
  {
   "cell_type": "markdown",
   "metadata": {},
   "source": [
    "Maintenant, on suppoose qu'on a une collection de produits :\n",
    "- TV de prix 1200.75 et quantité 5\n",
    "- MO de prix 350.7555 et quantité 20\n",
    "- RFG de prix 2100.889 et de quantité 3\n",
    "On veut les afficher chacun surnune ligne selon le même format (de tout à l'heure)"
   ]
  },
  {
   "cell_type": "markdown",
   "metadata": {},
   "source": [
    "#?"
   ]
  },
  {
   "cell_type": "markdown",
   "metadata": {},
   "source": [
    "<b>Formatage en utilisant la fonction format</b>\n",
    "\n",
    "On va utiliser la fonction format pour avoir le format de tout à l'heure :"
   ]
  },
  {
   "cell_type": "code",
   "execution_count": null,
   "metadata": {},
   "outputs": [],
   "source": [
    "#?"
   ]
  }
 ],
 "metadata": {
  "kernelspec": {
   "display_name": "ocr",
   "language": "python",
   "name": "python3"
  },
  "language_info": {
   "codemirror_mode": {
    "name": "ipython",
    "version": 3
   },
   "file_extension": ".py",
   "mimetype": "text/x-python",
   "name": "python",
   "nbconvert_exporter": "python",
   "pygments_lexer": "ipython3",
   "version": "3.8.15"
  }
 },
 "nbformat": 4,
 "nbformat_minor": 2
}
