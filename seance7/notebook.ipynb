{
 "cells": [
  {
   "cell_type": "markdown",
   "metadata": {},
   "source": [
    "<b>Objectifs:</b>\n",
    "- Boucle `while`\n",
    "- L'instruction `break`\n",
    "- <font color='red'>Formatage</font> d'une chaine"
   ]
  },
  {
   "cell_type": "markdown",
   "metadata": {},
   "source": [
    "<b>Boucle while</b>\n",
    "- Généralement, on utilise la boucle <font color='red'>while</font> si on ne connaît pas le nombre d'itérations au préalable.\n",
    "- Son syntaxe :\n",
    "\n",
    "        while condition :\n",
    "            # code d'itération\n",
    "\n",
    "- Dans la pratique, l'utilisation de la boucle while a besoin d'une variable pour \"faire rouler la boucle\"\n",
    "- Il y a 3 actions necessaires sur cette variable :\n",
    "    - Initialiser la variable\n",
    "    - Utiliser la variable dans la condition de while\n",
    "    - Modifier la variable dans l'itération de la boucle"
   ]
  },
  {
   "cell_type": "markdown",
   "metadata": {},
   "source": [
    "<u>Exemple 1:</u>\n",
    "- Pour afficher les entiers entre 5 et 10 en utilisant la boucle `for` :"
   ]
  },
  {
   "cell_type": "code",
   "execution_count": 3,
   "metadata": {},
   "outputs": [
    {
     "name": "stdout",
     "output_type": "stream",
     "text": [
      "5\n",
      "6\n",
      "7\n",
      "8\n",
      "9\n",
      "10\n"
     ]
    }
   ],
   "source": [
    "for i in range(5,11,1):\n",
    "    print(i)"
   ]
  },
  {
   "cell_type": "markdown",
   "metadata": {},
   "source": [
    "<u>Exemple 1:</u>\n",
    "- Pour afficher les entiers entre 5 et 10 en utilisant la boucle `while` :"
   ]
  },
  {
   "cell_type": "code",
   "execution_count": 2,
   "metadata": {},
   "outputs": [
    {
     "name": "stdout",
     "output_type": "stream",
     "text": [
      "5\n",
      "6\n",
      "7\n",
      "8\n",
      "9\n",
      "10\n"
     ]
    }
   ],
   "source": [
    "i=5\n",
    "while i<=10:\n",
    "    print(i)\n",
    "    i+=1"
   ]
  },
  {
   "cell_type": "markdown",
   "metadata": {},
   "source": [
    "<u>Exemple 2:</u>"
   ]
  },
  {
   "cell_type": "markdown",
   "metadata": {},
   "source": [
    "- Soit une liste des noms écrits en miniscule `noms`.\n",
    "- Utiliser la boucle `for` Ecrire un code qui transforme ces noms en majusucle.\n"
   ]
  },
  {
   "cell_type": "code",
   "execution_count": 1,
   "metadata": {},
   "outputs": [
    {
     "data": {
      "text/plain": [
       "['SONIA', 'ALI', 'RAHMA']"
      ]
     },
     "execution_count": 1,
     "metadata": {},
     "output_type": "execute_result"
    }
   ],
   "source": [
    "noms=['sonia','ali','rahma']\n",
    "for i in range(len(noms)):\n",
    "    noms[i]=noms[i].upper()\n",
    "noms"
   ]
  },
  {
   "cell_type": "markdown",
   "metadata": {},
   "source": [
    "- Refaire la même chose en utilisant la boucle `while`."
   ]
  },
  {
   "cell_type": "code",
   "execution_count": 4,
   "metadata": {},
   "outputs": [
    {
     "data": {
      "text/plain": [
       "['SONIA', 'ALI', 'RAHMA']"
      ]
     },
     "execution_count": 4,
     "metadata": {},
     "output_type": "execute_result"
    }
   ],
   "source": [
    "noms=['sonia','ali','rahma']\n",
    "i=0\n",
    "while i<len(noms):\n",
    "    noms[i]=noms[i].upper()\n",
    "    i+=1\n",
    "noms"
   ]
  },
  {
   "cell_type": "markdown",
   "metadata": {},
   "source": [
    "<b>Formattage d'une chaine</b>\n",
    "- Le formattage permet de structurer les informations dans une chaine de caractères.\n",
    "- Il est souvent utilisé dans l'affichage sur console."
   ]
  },
  {
   "cell_type": "markdown",
   "metadata": {},
   "source": [
    "<u>Exemple 1:</u> (qui justifie pourquoi on a besoin de formattage !)\n",
    "- Etant donné les 3 listes informations des personnes, affichez ces informations sur la console."
   ]
  },
  {
   "cell_type": "code",
   "execution_count": 5,
   "metadata": {},
   "outputs": [
    {
     "name": "stdout",
     "output_type": "stream",
     "text": [
      "sonia 1200.7543 25\n",
      "ali 1850.67 31\n",
      "rahma 2100.9 38\n"
     ]
    }
   ],
   "source": [
    "noms=['sonia','ali','rahma']\n",
    "salaires=[1200.7543,1850.67,2100.9]\n",
    "ages=[25,31,38]\n",
    "for i in range(len(noms)):\n",
    "    print(noms[i],salaires[i],ages[i])"
   ]
  },
  {
   "cell_type": "markdown",
   "metadata": {},
   "source": [
    "- On peut facilement constater que l'affichage manque d'organisation ou plutôt il manque du format.\n",
    "- Pour imposer un format, on peut utiliser l'opérateur de formattage `%`\n",
    "- L'opérateur `%` est un opérateur binaire qui a deux opérandes :\n",
    "  - une chaine à gauche qui contient le(s) format(s)\n",
    "  - un tuple à droite qui contient des varibales"
   ]
  },
  {
   "cell_type": "markdown",
   "metadata": {},
   "source": [
    "<u>Exemple 2:</u>\n",
    "- Etant donné les informations (nom, salaire, age) d'une personne, on veut afficher ces informations tels que :\n",
    "  - nom (de type str) affiché sur 10 caractères et aligné à gauche\n",
    "  - salaire (de type float) affiché sur 10 caractères, arrondi à 2 chiffres après la virgule et aligné à gauche\n",
    "  - age (de type int) affiché sur  5 caractères et aligné à gauche"
   ]
  },
  {
   "cell_type": "code",
   "execution_count": 6,
   "metadata": {},
   "outputs": [],
   "source": [
    "nom='Ali'\n",
    "salaire=1200.75\n",
    "age=28"
   ]
  },
  {
   "cell_type": "code",
   "execution_count": 7,
   "metadata": {},
   "outputs": [
    {
     "data": {
      "text/plain": [
       "'Ali       1200.75   28   '"
      ]
     },
     "execution_count": 7,
     "metadata": {},
     "output_type": "execute_result"
    }
   ],
   "source": [
    "s='%-10s%-10.2f%-5d' % (nom,salaire,age)\n",
    "s"
   ]
  },
  {
   "cell_type": "code",
   "execution_count": 8,
   "metadata": {},
   "outputs": [
    {
     "name": "stdout",
     "output_type": "stream",
     "text": [
      "Ali       1200.75   28   \n"
     ]
    }
   ],
   "source": [
    "print(s)"
   ]
  },
  {
   "cell_type": "markdown",
   "metadata": {},
   "source": [
    "Souvent, on combine `pirnt()` avec `%` en une seule ligne du code"
   ]
  },
  {
   "cell_type": "code",
   "execution_count": 9,
   "metadata": {},
   "outputs": [
    {
     "name": "stdout",
     "output_type": "stream",
     "text": [
      "Ali       1200.75   28   \n"
     ]
    }
   ],
   "source": [
    "print('%-10s%-10.2f%-5d' % (nom,salaire,age))"
   ]
  },
  {
   "cell_type": "markdown",
   "metadata": {},
   "source": [
    "Maintenant, on revient vers l'exemple 1 qui a demandé d'afficher les informations des personnes avec une boucle `for` et on lui applique l'opérateur `%`"
   ]
  },
  {
   "cell_type": "code",
   "execution_count": 10,
   "metadata": {},
   "outputs": [
    {
     "name": "stdout",
     "output_type": "stream",
     "text": [
      "sonia     1200.75   25   \n",
      "ali       1850.67   31   \n",
      "rahma     2100.90   38   \n"
     ]
    }
   ],
   "source": [
    "noms=['sonia','ali','rahma']\n",
    "salaires=[1200.7543,1850.67,2100.9]\n",
    "ages=[25,31,38]\n",
    "for i in range(len(noms)):\n",
    "    print('%-10s%-10.2f%-5d' % (noms[i],salaires[i],ages[i]))"
   ]
  }
 ],
 "metadata": {
  "kernelspec": {
   "display_name": "ocr",
   "language": "python",
   "name": "python3"
  },
  "language_info": {
   "codemirror_mode": {
    "name": "ipython",
    "version": 3
   },
   "file_extension": ".py",
   "mimetype": "text/x-python",
   "name": "python",
   "nbconvert_exporter": "python",
   "pygments_lexer": "ipython3",
   "version": "3.8.3"
  }
 },
 "nbformat": 4,
 "nbformat_minor": 2
}
