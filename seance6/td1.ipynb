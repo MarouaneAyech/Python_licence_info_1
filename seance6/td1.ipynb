{
 "cells": [
  {
   "cell_type": "markdown",
   "metadata": {},
   "source": [
    "<b>TD 1</b>\n",
    "\n",
    "Je vous rappelle des concepts en Python vus dans les séances précédentes :\n",
    "- Les types de base `int`, `float`, `str`et `bool`\n",
    "- Les fonctions de entrée standard `input()` et sortie standard `print()`\n",
    "- Le contrôle de flux avec `if`\n",
    "- Conversion d'un type de base vers un autre en utilisant les fonctions `int()`, `float()` et `str()`\n",
    "- Manipuler une chaine de caractères\n",
    "- Manipuler une liste\n",
    "- Divisiond'une chaine en une liste des sous-chaines\n",
    "- Jointure d'une liste des chaines en une seule chaine\n",
    "- Boucle `for`\n",
    "\n",
    "Pour plus détails, veuillez aller vers les notebooks des séances précédentes\n",
    "\n",
    "Dans ce TD, on va appliquer ces concepts dans des différents exercices :"
   ]
  },
  {
   "cell_type": "markdown",
   "metadata": {},
   "source": [
    "<b>Exercice 1 </b> (Types de base et fonctions d'entrée/sortie)\n",
    "\n",
    "Écrivez un programme qui demande à l'utilisateur son nom et son âge, puis affiche un message de salutation en utilisant ces informations."
   ]
  },
  {
   "cell_type": "code",
   "execution_count": null,
   "metadata": {},
   "outputs": [],
   "source": [
    "#code"
   ]
  },
  {
   "cell_type": "markdown",
   "metadata": {},
   "source": [
    "<b>Exercice 2</b> (Contrôle de flux avec if)\n",
    "\n",
    "Ecrivez un programme qui demande à l'utilisateur un nombre et affiche si ce nombre est pair ou impair."
   ]
  },
  {
   "cell_type": "code",
   "execution_count": null,
   "metadata": {},
   "outputs": [],
   "source": [
    "#code"
   ]
  },
  {
   "cell_type": "markdown",
   "metadata": {},
   "source": [
    "<b>Exercice 3</b> (Manipulation de chaînes de caractères et boucle for)\n",
    "\n",
    "Écrivez un programme qui prend une chaîne de caractères en entrée et affiche chaque caractère de la chaîne sur une ligne différente."
   ]
  },
  {
   "cell_type": "code",
   "execution_count": null,
   "metadata": {},
   "outputs": [],
   "source": [
    "#code"
   ]
  },
  {
   "cell_type": "markdown",
   "metadata": {},
   "source": [
    "<b>Exercice 4</b> (Manipulation de listes et boucle for)\n",
    "\n",
    "Ecrivez un programme qui prend une liste de nombres en entrée et affiche la somme de ces nombres."
   ]
  },
  {
   "cell_type": "code",
   "execution_count": null,
   "metadata": {},
   "outputs": [],
   "source": [
    "#code"
   ]
  },
  {
   "cell_type": "markdown",
   "metadata": {},
   "source": [
    "<b>Exercice 5</b>\n",
    "\n",
    "Ecrivez un programme qui demande à l'utilisateur de saisir une liste de nombres séparés par des virgules, puis calcule et affiche la moyenne de ces nombres."
   ]
  },
  {
   "cell_type": "code",
   "execution_count": null,
   "metadata": {},
   "outputs": [],
   "source": [
    "#code"
   ]
  },
  {
   "cell_type": "markdown",
   "metadata": {},
   "source": [
    "<b>Exercice 6</b>\n",
    "\n",
    "Ecrivez un programme qui vérifie si une chaîne de caractères donnée est un <font color='red'>palindrome</font>\n",
    "\n",
    "Une chaine est palindrome si elle se lit de la même manière de gauche à droite et de droite à gauche, en ignorant les espaces et la casse."
   ]
  },
  {
   "cell_type": "code",
   "execution_count": null,
   "metadata": {},
   "outputs": [],
   "source": [
    "#code"
   ]
  },
  {
   "cell_type": "markdown",
   "metadata": {},
   "source": [
    "<b>Exercice 7</b>\n",
    "\n",
    "Ecrire un programme d'analyse de texte qui permet de :\n",
    "- Saisir un texte qui contient des mots éventuellement séparés par des caractères de séparation comme . , ou un espace\n",
    "- Netoyer le texte :\n",
    "    - Découper le texte en liste de mots en se bansant sur les ponctuations (. , ou un espace)\n",
    "    - Ne garder que les mots alphanumériques (composé uniquement des lettres et des chiffres)\n",
    "    - Rendre tous les mots en minscule\n",
    "- Compter le nombre total de mots dans le texte\n",
    "- Soit 4 thèmes représentés par des listes des mots pertinents : \n",
    "    - `sport=['foot','football','messi','ronaldo','fifa','équipe','match','championnat']`\n",
    "    - `economie=['industrie','agriculture','argent','transfert','entreprise','montant']`\n",
    "    - `politique=['gouvernement', 'élection', 'parti', 'président', 'politique', 'démocratie', 'loi']`\n",
    "    - `sante=['santé', 'médecine', 'hôpital', 'maladie', 'virus', 'vaccin', 'patient', 'traitement']`\n",
    "<br>Affichez le thème dominant du texte netoyé, càd le thème ayant le maximum des mots dans le texte."
   ]
  },
  {
   "cell_type": "code",
   "execution_count": null,
   "metadata": {},
   "outputs": [],
   "source": [
    "#code"
   ]
  }
 ],
 "metadata": {
  "language_info": {
   "name": "python"
  }
 },
 "nbformat": 4,
 "nbformat_minor": 2
}
