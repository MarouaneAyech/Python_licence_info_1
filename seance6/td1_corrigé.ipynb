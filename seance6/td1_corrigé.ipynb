{
 "cells": [
  {
   "cell_type": "markdown",
   "metadata": {},
   "source": [
    "<b>TD 1</b>\n",
    "\n",
    "Je vous rappelle des concepts en Python vus dans les séances précédentes :\n",
    "- Les types de base `int`, `float`, `str`et `bool`\n",
    "- Les fonctions de entrée standard `input()` et sortie standard `print()`\n",
    "- Le contrôle de flux avec `if`\n",
    "- Conversion d'un type de base vers un autre en utilisant les fonctions `int()`, `float()` et `str()`\n",
    "- Manipuler une chaine de caractères\n",
    "- Manipuler une liste\n",
    "- Divisiond'une chaine en une liste des sous-chaines\n",
    "- Jointure d'une liste des chaines en une seule chaine\n",
    "- Boucle `for`\n",
    "\n",
    "Pour plus détails, veuillez aller vers les notebooks des séances précédentes\n",
    "\n",
    "Dans ce TD, on va appliquer ces concepts dans des différents exercices :"
   ]
  },
  {
   "cell_type": "markdown",
   "metadata": {},
   "source": [
    "<b>Exercice 1 </b> (Types de base et fonctions d'entrée/sortie)\n",
    "\n",
    "Écrivez un programme qui demande à l'utilisateur son nom et son âge, puis affiche un message de salutation en utilisant ces informations."
   ]
  },
  {
   "cell_type": "code",
   "execution_count": 1,
   "metadata": {},
   "outputs": [
    {
     "name": "stdout",
     "output_type": "stream",
     "text": [
      "Ali votre age est 38\n"
     ]
    }
   ],
   "source": [
    "nom=input('Entrez votre nom:')\n",
    "age=int(input('Entrez votre age:'))\n",
    "print(nom,'votre age est',age)"
   ]
  },
  {
   "cell_type": "markdown",
   "metadata": {},
   "source": [
    "<b>Exercice 2</b> (Contrôle de flux avec if)\n",
    "\n",
    "Ecrivez un programme qui demande à l'utilisateur un nombre et affiche si ce nombre est pair ou impair."
   ]
  },
  {
   "cell_type": "code",
   "execution_count": 2,
   "metadata": {},
   "outputs": [
    {
     "name": "stdout",
     "output_type": "stream",
     "text": [
      "12 est pair\n"
     ]
    }
   ],
   "source": [
    "nombre=int(input('Entrez un nombre:'))\n",
    "if nombre%2==0:\n",
    "    print(nombre,'est pair')\n",
    "else:\n",
    "    print(nombre,'est impair')"
   ]
  },
  {
   "cell_type": "markdown",
   "metadata": {},
   "source": [
    "<b>Exercice 3</b> (Manipulation de chaînes de caractères et boucle for)\n",
    "\n",
    "Écrivez un programme qui prend une chaîne de caractères en entrée et affiche chaque caractère de la chaîne sur une ligne différente."
   ]
  },
  {
   "cell_type": "code",
   "execution_count": 3,
   "metadata": {},
   "outputs": [
    {
     "name": "stdout",
     "output_type": "stream",
     "text": [
      "h\n",
      "e\n",
      "l\n",
      "l\n",
      "o\n"
     ]
    }
   ],
   "source": [
    "# Manière 1\n",
    "s=input('Entrez une chaine:')\n",
    "for i in range(len(s)):\n",
    "    print(s[i])"
   ]
  },
  {
   "cell_type": "code",
   "execution_count": 4,
   "metadata": {},
   "outputs": [
    {
     "name": "stdout",
     "output_type": "stream",
     "text": [
      "h\n",
      "e\n",
      "l\n",
      "l\n",
      "o\n"
     ]
    }
   ],
   "source": [
    "# Manière 2\n",
    "s=input('Entrez une chaine:')\n",
    "for c in s:\n",
    "    print(c)"
   ]
  },
  {
   "cell_type": "code",
   "execution_count": 5,
   "metadata": {},
   "outputs": [
    {
     "name": "stdout",
     "output_type": "stream",
     "text": [
      "h\n",
      "e\n",
      "l\n",
      "l\n",
      "o\n"
     ]
    }
   ],
   "source": [
    "# Manière 3\n",
    "s=input('Entrez une chaine:')\n",
    "print(*list(s),sep='\\n')"
   ]
  },
  {
   "cell_type": "markdown",
   "metadata": {},
   "source": [
    "<b>Exercice 4</b> (Manipulation de listes et boucle for)\n",
    "\n",
    "Ecrivez un programme qui prend une liste de nombres en entrée et affiche la somme de ces nombres."
   ]
  },
  {
   "cell_type": "code",
   "execution_count": 6,
   "metadata": {},
   "outputs": [
    {
     "name": "stdout",
     "output_type": "stream",
     "text": [
      "La somme est: 10\n"
     ]
    }
   ],
   "source": [
    "s=0\n",
    "for i in range(3):\n",
    "    n=int(input('Entrez un nombre:'))\n",
    "    s+=n\n",
    "print('La somme est:',s)"
   ]
  },
  {
   "cell_type": "markdown",
   "metadata": {},
   "source": [
    "<b>Exercice 5</b>\n",
    "\n",
    "Ecrivez un programme qui demande à l'utilisateur de saisir une liste de nombres séparés par des virgules, puis calcule et affiche la moyenne de ces nombres."
   ]
  },
  {
   "cell_type": "code",
   "execution_count": 9,
   "metadata": {},
   "outputs": [
    {
     "name": "stdout",
     "output_type": "stream",
     "text": [
      "La moyenne est: 5.333333333333333\n"
     ]
    }
   ],
   "source": [
    "s=input('Entrez une liste de nombres séparés par virgule:')\n",
    "liste=s.split(',')\n",
    "s=0\n",
    "for i in range(len(liste)):\n",
    "    n=int(liste[i])\n",
    "    s+=n\n",
    "moyenne=s/len(liste)\n",
    "print('La moyenne est:',moyenne)"
   ]
  },
  {
   "cell_type": "markdown",
   "metadata": {},
   "source": [
    "<b>Exercice 6</b>\n",
    "\n",
    "Ecrivez un programme qui vérifie si une chaîne de caractères donnée est un <font color='red'>palindrome</font>\n",
    "\n",
    "Une chaine est palindrome si elle se lit de la même manière de gauche à droite et de droite à gauche, en ignorant les espaces et la casse."
   ]
  },
  {
   "cell_type": "code",
   "execution_count": 10,
   "metadata": {},
   "outputs": [
    {
     "name": "stdout",
     "output_type": "stream",
     "text": [
      "azza est un palindrome\n"
     ]
    }
   ],
   "source": [
    "s=input('Entrez une chaine:')\n",
    "s=s.replace(\" \",\"\").lower()\n",
    "if s==s[::-1]:\n",
    "    print(s,'est un palindrome')\n",
    "else:\n",
    "    print(s,'n\\'est pas un palindrome')"
   ]
  },
  {
   "cell_type": "markdown",
   "metadata": {},
   "source": [
    "<b>Exercice 7</b>\n",
    "\n",
    "Ecrire un programme d'analyse de texte qui permet de :\n",
    "- Saisir un texte qui contient des mots éventuellement séparés par des caractères de séparation comme . , ou un espace\n",
    "- Netoyer le texte :\n",
    "    - Découper le texte en liste de mots en se bansant sur les ponctuations (. , ou un espace)\n",
    "    - Ne garder que les mots alphanumériques (composé uniquement des lettres et des chiffres)\n",
    "    - Rendre tous les mots en minscule\n",
    "- Compter le nombre total de mots dans le texte\n",
    "- Soit 4 thèmes représentés par des listes des mots pertinents : \n",
    "    - `sport=['foot','football','messi','ronaldo','fifa','équipe','match','championnat']`\n",
    "    - `economie=['industrie','agriculture','argent','transfert','entreprise','montant']`\n",
    "    - `politique=['gouvernement', 'élection', 'parti', 'président', 'politique', 'démocratie', 'loi']`\n",
    "    - `sante=['santé', 'médecine', 'hôpital', 'maladie', 'virus', 'vaccin', 'patient', 'traitement']`\n",
    "<br>Affichez le thème dominant du texte netoyé, càd le thème ayant le maximum des mots dans le texte."
   ]
  },
  {
   "cell_type": "code",
   "execution_count": 12,
   "metadata": {},
   "outputs": [
    {
     "data": {
      "text/plain": [
       "\"Le montant de transfert de RONALDO dépsse le chiffre d'affaire d'une entreprise,   et selon  la fifa il dépsse 100 millions euros.\""
      ]
     },
     "execution_count": 12,
     "metadata": {},
     "output_type": "execute_result"
    }
   ],
   "source": [
    "# Saisir un texte qui contient des mots éventuellement \n",
    "# séparés par des caractères de séparation comme . , ou un espace\n",
    "texte=input('Entrez un texte :')\n",
    "texte"
   ]
  },
  {
   "cell_type": "code",
   "execution_count": 13,
   "metadata": {},
   "outputs": [
    {
     "data": {
      "text/plain": [
       "['Le',\n",
       " 'montant',\n",
       " 'de',\n",
       " 'transfert',\n",
       " 'de',\n",
       " 'RONALDO',\n",
       " 'dépsse',\n",
       " 'le',\n",
       " 'chiffre',\n",
       " \"d'affaire\",\n",
       " \"d'une\",\n",
       " 'entreprise',\n",
       " 'et',\n",
       " 'selon',\n",
       " 'la',\n",
       " 'fifa',\n",
       " 'il',\n",
       " 'dépsse',\n",
       " '100',\n",
       " 'millions',\n",
       " 'euros']"
      ]
     },
     "execution_count": 13,
     "metadata": {},
     "output_type": "execute_result"
    }
   ],
   "source": [
    "# Netoyer le texte :\n",
    "#     - Découper le texte en liste de mots en se basant sur les ponctuations (. , ou un espace)\n",
    "mots=[]\n",
    "mot=\"\"\n",
    "for i in range(len(texte)): \n",
    "    if texte[i] not in [',','.',' ']:\n",
    "        mot+=texte[i]\n",
    "    elif mot!=\"\":\n",
    "        mots.append(mot)\n",
    "        mot=\"\"\n",
    "mots"
   ]
  },
  {
   "cell_type": "code",
   "execution_count": 16,
   "metadata": {},
   "outputs": [
    {
     "data": {
      "text/plain": [
       "['Le',\n",
       " 'montant',\n",
       " 'de',\n",
       " 'transfert',\n",
       " 'de',\n",
       " 'RONALDO',\n",
       " 'dépsse',\n",
       " 'le',\n",
       " 'chiffre',\n",
       " 'entreprise',\n",
       " 'et',\n",
       " 'selon',\n",
       " 'la',\n",
       " 'fifa',\n",
       " 'il',\n",
       " 'dépsse',\n",
       " 'millions',\n",
       " 'euros']"
      ]
     },
     "execution_count": 16,
     "metadata": {},
     "output_type": "execute_result"
    }
   ],
   "source": [
    "# Ne garder que les mots alphanumériques (composé uniquement des lettres et des chiffres)\n",
    "mots1=[]\n",
    "for i in range(len(mots)):\n",
    "    if mots[i].isalpha():\n",
    "        mots1.append(mots[i])\n",
    "mots1"
   ]
  },
  {
   "cell_type": "code",
   "execution_count": 17,
   "metadata": {},
   "outputs": [
    {
     "data": {
      "text/plain": [
       "['le',\n",
       " 'montant',\n",
       " 'de',\n",
       " 'transfert',\n",
       " 'de',\n",
       " 'ronaldo',\n",
       " 'dépsse',\n",
       " 'le',\n",
       " 'chiffre',\n",
       " 'entreprise',\n",
       " 'et',\n",
       " 'selon',\n",
       " 'la',\n",
       " 'fifa',\n",
       " 'il',\n",
       " 'dépsse',\n",
       " 'millions',\n",
       " 'euros']"
      ]
     },
     "execution_count": 17,
     "metadata": {},
     "output_type": "execute_result"
    }
   ],
   "source": [
    "#  Rendre tous les mots en minscule\n",
    "for i in range(len(mots1)):\n",
    "    mots1[i]=mots1[i].lower()\n",
    "mots1"
   ]
  },
  {
   "cell_type": "code",
   "execution_count": 22,
   "metadata": {},
   "outputs": [
    {
     "name": "stdout",
     "output_type": "stream",
     "text": [
      "Le nombre total des mots dans le texte : 21\n"
     ]
    }
   ],
   "source": [
    "# Compter le nombre total de mots dans le texte\n",
    "nb_total=len(mots)\n",
    "print('Le nombre total des mots dans le texte :',nb_total)"
   ]
  },
  {
   "cell_type": "code",
   "execution_count": 21,
   "metadata": {},
   "outputs": [],
   "source": [
    "# Soit 4 thèmes représentés par des listes des mots pertinents : \n",
    "#     - `sport=['foot','football','messi','ronaldo','fifa','équipe','match','championnat']`\n",
    "#     - `economie=['industrie','agriculture','argent','transfert','entreprise','montant']`\n",
    "#     - `politique=['gouvernement', 'élection', 'parti', 'président', 'politique', 'démocratie', 'loi']`\n",
    "#     - `sante=['santé', 'médecine', 'hôpital', 'maladie', 'virus', 'vaccin', 'patient', 'traitement']`\n",
    "sport=['foot','football','messi','ronaldo','fifa','équipe','match','championnat']\n",
    "economie=['industrie','agriculture','argent','transfert','entreprise','montant']\n",
    "politique=['gouvernement', 'élection', 'parti', 'président', 'politique', 'démocratie', 'loi']\n",
    "sante=['santé', 'médecine', 'hôpital', 'maladie', 'virus', 'vaccin', 'patient', 'traitement']"
   ]
  },
  {
   "cell_type": "code",
   "execution_count": 23,
   "metadata": {},
   "outputs": [],
   "source": [
    "# Affichez le thème dominant du texte netoyé, càd le thème ayant le maximum des mots dans le texte.\n",
    "themes=['sport','economie','politique','sante']\n",
    "compteurs=[0,0,0,0]\n",
    "for mot in mots1 :\n",
    "    if mot in sport:\n",
    "        compteurs[0]+=1\n",
    "    elif mot in economie:\n",
    "        compteurs[1]+=1\n",
    "    elif mot in politique:\n",
    "        compteurs[2]+=1\n",
    "    elif mot in sante:\n",
    "        compteurs[3]+=1"
   ]
  },
  {
   "cell_type": "code",
   "execution_count": 24,
   "metadata": {},
   "outputs": [
    {
     "data": {
      "text/plain": [
       "[2, 3, 0, 0]"
      ]
     },
     "execution_count": 24,
     "metadata": {},
     "output_type": "execute_result"
    }
   ],
   "source": [
    "compteurs"
   ]
  },
  {
   "cell_type": "code",
   "execution_count": 25,
   "metadata": {},
   "outputs": [
    {
     "name": "stdout",
     "output_type": "stream",
     "text": [
      "Theme dominant est economie\n"
     ]
    }
   ],
   "source": [
    "# déterminer le theme dominant = theme ayant le compteur maximal\n",
    "indice_max=0\n",
    "compteur_max=compteurs[0]\n",
    "for i in range(1,len(compteurs)):\n",
    "    if compteurs[i]>compteur_max:\n",
    "        compteur_max=compteurs[i]\n",
    "        indice_max=i\n",
    "print('Theme dominant est',themes[indice_max])"
   ]
  }
 ],
 "metadata": {
  "kernelspec": {
   "display_name": "Python 3",
   "language": "python",
   "name": "python3"
  },
  "language_info": {
   "codemirror_mode": {
    "name": "ipython",
    "version": 3
   },
   "file_extension": ".py",
   "mimetype": "text/x-python",
   "name": "python",
   "nbconvert_exporter": "python",
   "pygments_lexer": "ipython3",
   "version": "3.8.15"
  }
 },
 "nbformat": 4,
 "nbformat_minor": 2
}
