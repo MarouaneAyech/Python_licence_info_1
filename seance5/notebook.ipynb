{
 "cells": [
  {
   "cell_type": "markdown",
   "metadata": {},
   "source": [
    "<b>Objectifs :</b>\n",
    "- <font color='red'>Division</font> d'une chaine en une liste des sous-chaines\n",
    "- <font color='red'>Jointure</font> d'une liste des chaines en une seule chaine\n",
    "- Boucle <font color='red'>for</font>"
   ]
  },
  {
   "cell_type": "markdown",
   "metadata": {},
   "source": [
    "<b>Division (Split) d'une chaine en une liste des sous-chaines</b>\n",
    "- On a souvent besoin  de diviser une chaine de caractères (texte) en une liste des sous-chaines (mots).\n",
    "- Pour le faire, on utilise la fonction <font color='red'>split</font> comme suit :\n",
    "    - Si on l'applique sur une chaine sans rien passer comme argument, elle sépare la chine en se basant sur l'espace comme séparateur\n",
    "    - Si on l'applique sur une chaine en passant un séparateur, elle découpe (split) la chaine chaque fois qu'elle le trouve\n",
    "\n",
    "<u>Exemple:</u>\n",
    "- Soit un texte (une chaine de caractères), composé des mots séparés par des espaces.\n",
    "- On veut le découper en mots"
   ]
  },
  {
   "cell_type": "code",
   "execution_count": 8,
   "metadata": {},
   "outputs": [],
   "source": [
    "texte=\"hello world and wolcome in our space\""
   ]
  },
  {
   "cell_type": "code",
   "execution_count": 9,
   "metadata": {},
   "outputs": [],
   "source": [
    "# on utilise la fonction split()\n",
    "# pour diviser une chaine en sous-chaines\n",
    "# Par defaut elle se base sur le seperateur espace\n",
    "# Elle retourne une liste\n",
    "liste=s.split()"
   ]
  },
  {
   "cell_type": "code",
   "execution_count": 10,
   "metadata": {},
   "outputs": [
    {
     "data": {
      "text/plain": [
       "['hello', 'world', 'and', 'wolcome', 'in', 'our', 'space']"
      ]
     },
     "execution_count": 10,
     "metadata": {},
     "output_type": "execute_result"
    }
   ],
   "source": [
    "liste"
   ]
  },
  {
   "cell_type": "code",
   "execution_count": 11,
   "metadata": {},
   "outputs": [],
   "source": [
    "# Si on passe comme argument une chaine qui n'existe pas dans s\n",
    "# La fonction retourne une liste qui contient toute la chaine\n",
    "liste=s.split('-')"
   ]
  },
  {
   "cell_type": "code",
   "execution_count": 12,
   "metadata": {},
   "outputs": [
    {
     "data": {
      "text/plain": [
       "['hello world and wolcome in our space']"
      ]
     },
     "execution_count": 12,
     "metadata": {},
     "output_type": "execute_result"
    }
   ],
   "source": [
    "liste"
   ]
  },
  {
   "cell_type": "code",
   "execution_count": 14,
   "metadata": {},
   "outputs": [],
   "source": [
    "# Si on passe une chaine (wo) qui existe dans la chaine de depart\n",
    "# ELle retourne une liste des mots separés par \"wo\"\n",
    "liste=s.split(\"wo\")"
   ]
  },
  {
   "cell_type": "code",
   "execution_count": 15,
   "metadata": {},
   "outputs": [
    {
     "data": {
      "text/plain": [
       "['hello ', 'rld and ', 'lcome in our space']"
      ]
     },
     "execution_count": 15,
     "metadata": {},
     "output_type": "execute_result"
    }
   ],
   "source": [
    "liste"
   ]
  },
  {
   "cell_type": "code",
   "execution_count": 17,
   "metadata": {},
   "outputs": [
    {
     "data": {
      "text/plain": [
       "list"
      ]
     },
     "execution_count": 17,
     "metadata": {},
     "output_type": "execute_result"
    }
   ],
   "source": [
    "type(liste)"
   ]
  },
  {
   "cell_type": "code",
   "execution_count": 18,
   "metadata": {},
   "outputs": [
    {
     "data": {
      "text/plain": [
       "3"
      ]
     },
     "execution_count": 18,
     "metadata": {},
     "output_type": "execute_result"
    }
   ],
   "source": [
    "len(liste)"
   ]
  },
  {
   "cell_type": "markdown",
   "metadata": {},
   "source": [
    "<b>Jointure d'une liste de chaines en une seule chaine</b>\n",
    "- Etant donné une liste des chaines, on peut les joindre en mettant un séparateur entre eux.\n",
    "- On utilise la fonction <font color='red'>join</font>\n",
    "- Son syntaxe :\n",
    "\n",
    "        séparateur.join(liste)\n",
    "<u>Exemple:</u>\n",
    "- Soit la liste <font color='red'>mots</font>, une liste de 3 chaines.\n",
    "- On veut joindre ces 3 chaines en mettant le séparateur \"-\" entre eux."
   ]
  },
  {
   "cell_type": "code",
   "execution_count": 19,
   "metadata": {},
   "outputs": [],
   "source": [
    "mots=[\"189\",\"Tunis\",\"2233\"]"
   ]
  },
  {
   "cell_type": "code",
   "execution_count": 20,
   "metadata": {},
   "outputs": [
    {
     "data": {
      "text/plain": [
       "'189Tunis2233'"
      ]
     },
     "execution_count": 20,
     "metadata": {},
     "output_type": "execute_result"
    }
   ],
   "source": [
    "# Si on utilise une chaine vide avec join()\n",
    "# On obtient une chaine dals laquelle toutes les chaine sont concatinées\n",
    "mat=\"\".join(mots)\n",
    "mat"
   ]
  },
  {
   "cell_type": "code",
   "execution_count": 21,
   "metadata": {},
   "outputs": [
    {
     "data": {
      "text/plain": [
       "'189 Tunis 2233'"
      ]
     },
     "execution_count": 21,
     "metadata": {},
     "output_type": "execute_result"
    }
   ],
   "source": [
    "# On peut utiliser l'espace comme séparateur\n",
    "mat=\" \".join(mots)\n",
    "mat"
   ]
  },
  {
   "cell_type": "code",
   "execution_count": 22,
   "metadata": {},
   "outputs": [
    {
     "data": {
      "text/plain": [
       "'189-Tunis-2233'"
      ]
     },
     "execution_count": 22,
     "metadata": {},
     "output_type": "execute_result"
    }
   ],
   "source": [
    "# On peut utiliser la chaine \"-\" comme séparateur\n",
    "mat=\"-\".join(mots)\n",
    "mat"
   ]
  },
  {
   "cell_type": "markdown",
   "metadata": {},
   "source": [
    "<b>Exercice :</b>\n",
    "- Demander à l'utilisateur de saisir sa date de naissance selon le format jj/mm/aaaa.\n",
    "- Vous allez extraire le jour, le mois et l'année.\n",
    "- Vous allez lui affichez les informations comme indiqué dans l'exemple suivant :\n",
    "\n",
    "        Donnez votre date de naissance (jj/mm/aaaa): 12/01/2000\n",
    "        Jour : 12\n",
    "        Mois: 01\n",
    "        Année: 2000\n",
    "        Date de naissance: 12-01-2000\n",
    "        Age: 24 ans"
   ]
  },
  {
   "cell_type": "markdown",
   "metadata": {},
   "source": [
    "<b>Solution :</b>"
   ]
  },
  {
   "cell_type": "code",
   "execution_count": 2,
   "metadata": {},
   "outputs": [
    {
     "data": {
      "text/plain": [
       "'12/01/2000'"
      ]
     },
     "execution_count": 2,
     "metadata": {},
     "output_type": "execute_result"
    }
   ],
   "source": [
    "date_naissance=input('Donnez votre date de naissance:')\n",
    "date_naissance"
   ]
  },
  {
   "cell_type": "code",
   "execution_count": 3,
   "metadata": {},
   "outputs": [
    {
     "data": {
      "text/plain": [
       "['12', '01', '2000']"
      ]
     },
     "execution_count": 3,
     "metadata": {},
     "output_type": "execute_result"
    }
   ],
   "source": [
    "liste=date_naissance.split(\"/\")\n",
    "liste"
   ]
  },
  {
   "cell_type": "code",
   "execution_count": 4,
   "metadata": {},
   "outputs": [],
   "source": [
    "jour=liste[0]\n",
    "mois=liste[1]\n",
    "annee=liste[2]"
   ]
  },
  {
   "cell_type": "code",
   "execution_count": 5,
   "metadata": {},
   "outputs": [
    {
     "name": "stdout",
     "output_type": "stream",
     "text": [
      "Jour: 12\n",
      "Mois: 01\n",
      "Année: 2000\n"
     ]
    }
   ],
   "source": [
    "print(\"Jour:\",jour)\n",
    "print(\"Mois:\",mois)\n",
    "print(\"Année:\",annee)"
   ]
  },
  {
   "cell_type": "code",
   "execution_count": 6,
   "metadata": {},
   "outputs": [
    {
     "data": {
      "text/plain": [
       "'12-01-2000'"
      ]
     },
     "execution_count": 6,
     "metadata": {},
     "output_type": "execute_result"
    }
   ],
   "source": [
    "date_naissance_new=\"-\".join(liste)\n",
    "date_naissance_new"
   ]
  },
  {
   "cell_type": "code",
   "execution_count": 7,
   "metadata": {},
   "outputs": [
    {
     "name": "stdout",
     "output_type": "stream",
     "text": [
      "Date de naisance : 12-01-2000\n"
     ]
    }
   ],
   "source": [
    "print(\"Date de naisance :\", date_naissance_new)"
   ]
  },
  {
   "cell_type": "code",
   "execution_count": 8,
   "metadata": {},
   "outputs": [
    {
     "data": {
      "text/plain": [
       "24"
      ]
     },
     "execution_count": 8,
     "metadata": {},
     "output_type": "execute_result"
    }
   ],
   "source": [
    "age=2024-int(annee)\n",
    "age"
   ]
  },
  {
   "cell_type": "code",
   "execution_count": 9,
   "metadata": {},
   "outputs": [
    {
     "name": "stdout",
     "output_type": "stream",
     "text": [
      "Age: 24 ans\n"
     ]
    }
   ],
   "source": [
    "print(\"Age:\",age,\"ans\")"
   ]
  },
  {
   "cell_type": "markdown",
   "metadata": {},
   "source": [
    "<b>Boucle for</b>\n",
    "- En général, une boucle est utilisée pour écrire un <font color='red'>code répétitif (itératif)</font>\n",
    "- En Python, il y a deux boucles possibles:\n",
    "    - Boucle <font color='red'>for</font> : Utilisée si on connait le nombre d'itérations\n",
    "    - Boucle <font color='red'>while</font> : Utilisée si on ne connait pas le nombre d'itérations\n",
    "- Dans cette partie, on s'intéresse à la boucle for. Son syntaxe est :\n",
    "\n",
    "        for variable in liste :\n",
    "            # code de l'itération\n",
    "\n",
    "<u>Exemple 1:</u>\n",
    "- Soit la liste des noms :\n",
    "\n",
    "        noms=['ali','sonia','rahma']\n",
    "- On veut afficher chaque noms dans une ligne"
   ]
  },
  {
   "cell_type": "code",
   "execution_count": 10,
   "metadata": {},
   "outputs": [],
   "source": [
    "noms=['ali','sonia','rahma']"
   ]
  },
  {
   "cell_type": "code",
   "execution_count": 12,
   "metadata": {},
   "outputs": [
    {
     "name": "stdout",
     "output_type": "stream",
     "text": [
      "ali\n",
      "sonia\n",
      "rahma\n"
     ]
    }
   ],
   "source": [
    "# code sans la boucle for\n",
    "nom=noms[0]\n",
    "print(nom)\n",
    "nom=noms[1]\n",
    "print(nom)\n",
    "nom=noms[2]\n",
    "print(nom)"
   ]
  },
  {
   "cell_type": "code",
   "execution_count": 13,
   "metadata": {},
   "outputs": [
    {
     "name": "stdout",
     "output_type": "stream",
     "text": [
      "ali\n",
      "sonia\n",
      "rahma\n"
     ]
    }
   ],
   "source": [
    "# code avec la boucle for\n",
    "for nom in noms:\n",
    "    print(nom)"
   ]
  },
  {
   "cell_type": "markdown",
   "metadata": {},
   "source": [
    "<u>Exemple 2:</u>\n",
    "- On veut modifier les noms dans la liste de telle manière que chaque nom devienne en majuscule.\n",
    "- Si on suit la même boucle que tout à l'heure :\n",
    "\n",
    "        for nom in noms:\n",
    "            nom = nom.upper()\n",
    "\n",
    "- On constate que les noms dans la liste ne sont pas modifiés.\n",
    "- En effet, le seul moyen pour modifier les cases de la liste consiste à <font color='red'>utiliser les indices des cases</font>.\n",
    "- Ainsi, la boucle for qu'on doit utiliser doit parcourir les indices de la liste :\n",
    "\n",
    "        for i in [0,1,2]:\n",
    "            noms[i] = noms[i].upper()\n",
    "        \n",
    "- Le code ci-dessus fonctionne bien. Mais, ce n'est pas pratique d'écrire à la main la liste des valeurs des indices `[0,1,2]`\n",
    "- On utilise plutôt la fonction <font color='red'>range</font>, qui génère une séquence des entiers\n",
    "- Dans notre cas, on utilise cette fonction pour générer la liste des indices de la liste noms : `[0,1,2]` selon l'une des manières suivantes :\n",
    "- `range(0,3,1)`\n",
    "- `range(0,3)`\n",
    "- `range(3)`\n",
    "- `range(len(noms))`"
   ]
  },
  {
   "cell_type": "code",
   "execution_count": 14,
   "metadata": {},
   "outputs": [],
   "source": [
    "for i in range(len(noms)):\n",
    "    # La ième case de la liste noms[i] est modifiée\n",
    "    noms[i]=noms[i].upper()"
   ]
  },
  {
   "cell_type": "code",
   "execution_count": 16,
   "metadata": {},
   "outputs": [
    {
     "data": {
      "text/plain": [
       "['ALI', 'SONIA', 'RAHMA']"
      ]
     },
     "execution_count": 16,
     "metadata": {},
     "output_type": "execute_result"
    }
   ],
   "source": [
    "# On constate que les noms dans la liste deviennent en majuscule\n",
    "noms"
   ]
  },
  {
   "cell_type": "code",
   "execution_count": null,
   "metadata": {},
   "outputs": [],
   "source": []
  }
 ],
 "metadata": {
  "kernelspec": {
   "display_name": "ocr",
   "language": "python",
   "name": "python3"
  },
  "language_info": {
   "codemirror_mode": {
    "name": "ipython",
    "version": 3
   },
   "file_extension": ".py",
   "mimetype": "text/x-python",
   "name": "python",
   "nbconvert_exporter": "python",
   "pygments_lexer": "ipython3",
   "version": "3.8.15"
  }
 },
 "nbformat": 4,
 "nbformat_minor": 2
}
