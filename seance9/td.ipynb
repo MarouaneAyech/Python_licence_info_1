{
 "cells": [
  {
   "cell_type": "markdown",
   "metadata": {},
   "source": [
    "<b>Enoncé :</b>\n",
    "\n",
    "Soit le stock d'une entrprise de vente de produits :\n",
    "\n",
    "            label           puht        quantité\n",
    "            télé            1201.988    5    \n",
    "            réfrégirateur   2100.744    3    \n",
    "            micro-onde      350.133     15 \n",
    "\n",
    "L'objectif de ce travail est d'étudier ce stock en utilisant les deux concepts du langage Python : `List comprehension` et `Fonctions`.\n",
    "\n",
    "Vous allez suivre les étapes de la démarche suivante pour réaliser cette étude."
   ]
  },
  {
   "cell_type": "markdown",
   "metadata": {},
   "source": [
    "<b>Etape 1 : Collecte des données</b>"
   ]
  },
  {
   "cell_type": "markdown",
   "metadata": {},
   "source": [
    "<u>Question 1:</u>\n",
    "\n",
    "Un produit est défini par :\n",
    "- son nom (chaine de caractères) \n",
    "- son prix unitaire hors taxe (puht) (réel) \n",
    "- sa quantité (entier)\n",
    "\n",
    "Dans cette étude, ces informations des produits sont stockés dans les 3 listes suivantes : \n",
    "- noms : elle va contenir la liste des noms\n",
    "- puhts : elle va contenir la liste des prix unitaires hors taxe.\n",
    "- quantites : elle va contenir les quantités des produits en stock.\n",
    "\n",
    "Déclarer les listes `noms`, `puhts` et `quantites` comme vides."
   ]
  },
  {
   "cell_type": "code",
   "execution_count": 66,
   "metadata": {},
   "outputs": [],
   "source": [
    "#?"
   ]
  },
  {
   "cell_type": "markdown",
   "metadata": {},
   "source": [
    "<u>Question 2 :</u>\n",
    "\n",
    "Les informations des produits sont saisies à partir du clavier.\n",
    "\n",
    "Définir une fonction `saisir_produit` qui permet de saisir et retourner le nom, le puht et la quantité d'un seul produit."
   ]
  },
  {
   "cell_type": "code",
   "execution_count": 68,
   "metadata": {},
   "outputs": [],
   "source": [
    "#?"
   ]
  },
  {
   "cell_type": "code",
   "execution_count": 3,
   "metadata": {},
   "outputs": [],
   "source": [
    "#test\n",
    "nom, puht, quantite=saisir_produit()"
   ]
  },
  {
   "cell_type": "code",
   "execution_count": 9,
   "metadata": {},
   "outputs": [
    {
     "name": "stdout",
     "output_type": "stream",
     "text": [
      "nom=tele,puht=1200.556,quantité=5\n"
     ]
    }
   ],
   "source": [
    "print(f\"nom={nom},puht={puht},quantité={quantite}\")"
   ]
  },
  {
   "cell_type": "markdown",
   "metadata": {},
   "source": [
    "<u>Question 3 :</u>\n",
    "\n",
    "Les informations saisies des produits sont stockées dans les 3 listes.\n",
    "\n",
    "Définir une fonction `ajouter_produit` qui permet d'ajouter le nom, le puht et la quantité d'un seul produit dans les 3 listes."
   ]
  },
  {
   "cell_type": "code",
   "execution_count": 69,
   "metadata": {},
   "outputs": [],
   "source": [
    "#?"
   ]
  },
  {
   "cell_type": "code",
   "execution_count": 11,
   "metadata": {},
   "outputs": [],
   "source": [
    "# test\n",
    "ajouter_produit('tele',1200.556,5)"
   ]
  },
  {
   "cell_type": "code",
   "execution_count": 12,
   "metadata": {},
   "outputs": [
    {
     "data": {
      "text/plain": [
       "['tele']"
      ]
     },
     "execution_count": 12,
     "metadata": {},
     "output_type": "execute_result"
    }
   ],
   "source": [
    "#test\n",
    "noms"
   ]
  },
  {
   "cell_type": "code",
   "execution_count": 13,
   "metadata": {},
   "outputs": [
    {
     "data": {
      "text/plain": [
       "[1200.556]"
      ]
     },
     "execution_count": 13,
     "metadata": {},
     "output_type": "execute_result"
    }
   ],
   "source": [
    "#test\n",
    "puhts"
   ]
  },
  {
   "cell_type": "code",
   "execution_count": 14,
   "metadata": {},
   "outputs": [
    {
     "data": {
      "text/plain": [
       "[5]"
      ]
     },
     "execution_count": 14,
     "metadata": {},
     "output_type": "execute_result"
    }
   ],
   "source": [
    "#test\n",
    "quantites"
   ]
  },
  {
   "cell_type": "markdown",
   "metadata": {},
   "source": [
    "<u>Question 4 :</u>\n",
    "\n",
    "On veut maintenant saisir et ajouter les informations des produits, qui existent dans le stock.\n",
    "\n",
    "Ecrire un code Python dans lequel :\n",
    "1. Déclarer de nouveau les 3 listes `noms` , `puhts` et `quantites` comme vides.\n",
    "2. Implémente une boucle dans laquelle à chaque itération:\n",
    "    - Saisir les informations d'un produit.\n",
    "    - Ajouter ces informatiosn saisies dans les 3 listes en utilisant les deux fonctions `saisir_produit` et `ajouter_produit`. \n",
    "    - Demander à l'utilisateur de saisir `stop` s'il veut arrêter la boucle."
   ]
  },
  {
   "cell_type": "code",
   "execution_count": 73,
   "metadata": {},
   "outputs": [],
   "source": [
    "#?"
   ]
  },
  {
   "cell_type": "code",
   "execution_count": 74,
   "metadata": {},
   "outputs": [
    {
     "data": {
      "text/plain": [
       "['télé', 'réfrigérateur', 'micro-onde']"
      ]
     },
     "execution_count": 74,
     "metadata": {},
     "output_type": "execute_result"
    }
   ],
   "source": [
    "#test\n",
    "noms"
   ]
  },
  {
   "cell_type": "code",
   "execution_count": 75,
   "metadata": {},
   "outputs": [
    {
     "data": {
      "text/plain": [
       "[1200.998, 2100.665, 350.112]"
      ]
     },
     "execution_count": 75,
     "metadata": {},
     "output_type": "execute_result"
    }
   ],
   "source": [
    "#test\n",
    "puhts"
   ]
  },
  {
   "cell_type": "code",
   "execution_count": 76,
   "metadata": {},
   "outputs": [
    {
     "data": {
      "text/plain": [
       "[5, 3, 15]"
      ]
     },
     "execution_count": 76,
     "metadata": {},
     "output_type": "execute_result"
    }
   ],
   "source": [
    "#test\n",
    "quantites"
   ]
  },
  {
   "cell_type": "markdown",
   "metadata": {},
   "source": [
    "<b>Etape 2 : Calcul des informations sur les produits</b>"
   ]
  },
  {
   "cell_type": "markdown",
   "metadata": {},
   "source": [
    "<u>Question 1 :</u> \n",
    "\n",
    "Déterminer les abbréviations de tous les produits et les mettre dans une liste `labels` selon la logique suivante :\n",
    "\n",
    "        if longueur de nom > 5 Alors \n",
    "                abrv est composé de 3 premières lettres en majuscule\n",
    "        Sinon \n",
    "                abrv est composé de 2 premières lettres en majuscule"
   ]
  },
  {
   "cell_type": "code",
   "execution_count": 79,
   "metadata": {},
   "outputs": [],
   "source": [
    "#?"
   ]
  },
  {
   "cell_type": "code",
   "execution_count": 80,
   "metadata": {},
   "outputs": [
    {
     "data": {
      "text/plain": [
       "['TÉ', 'RÉF', 'MIC']"
      ]
     },
     "execution_count": 80,
     "metadata": {},
     "output_type": "execute_result"
    }
   ],
   "source": [
    "#test\n",
    "labels"
   ]
  },
  {
   "cell_type": "markdown",
   "metadata": {},
   "source": [
    " <u>Question 2 :</u>\n",
    " \n",
    " Le prix unitaire tout taxe compris d'un produit est calculé selon la formule :\n",
    "\n",
    "            puttc = puht * (1+tva)\n",
    "\n",
    " tva prend souvent la valeur 10%\n",
    "\n",
    "Définir la fonction `calculer_putcc` qui calcule et retourne le prix tout taxe compris (puttc) à partir de puht et tva."
   ]
  },
  {
   "cell_type": "code",
   "execution_count": 81,
   "metadata": {},
   "outputs": [],
   "source": [
    "#?"
   ]
  },
  {
   "cell_type": "code",
   "execution_count": 82,
   "metadata": {},
   "outputs": [
    {
     "data": {
      "text/plain": [
       "1100.0"
      ]
     },
     "execution_count": 82,
     "metadata": {},
     "output_type": "execute_result"
    }
   ],
   "source": [
    "#test\n",
    "puttc=calculer_puttc(1000)\n",
    "puttc"
   ]
  },
  {
   "cell_type": "code",
   "execution_count": 83,
   "metadata": {},
   "outputs": [
    {
     "data": {
      "text/plain": [
       "1150.0"
      ]
     },
     "execution_count": 83,
     "metadata": {},
     "output_type": "execute_result"
    }
   ],
   "source": [
    "#test\n",
    "puttc=calculer_puttc(1000,0.15)\n",
    "puttc"
   ]
  },
  {
   "cell_type": "markdown",
   "metadata": {},
   "source": [
    "<u>Question 3 :</u>\n",
    "\n",
    "Calculer les puttcs de tous les produits dans la liste  `puttcs` avec tva=10% en utilisant la fonction `calculer_puttc`."
   ]
  },
  {
   "cell_type": "code",
   "execution_count": 84,
   "metadata": {},
   "outputs": [],
   "source": [
    "#?"
   ]
  },
  {
   "cell_type": "code",
   "execution_count": 85,
   "metadata": {},
   "outputs": [
    {
     "data": {
      "text/plain": [
       "[1321.0978000000002, 2310.7315000000003, 385.12320000000005]"
      ]
     },
     "execution_count": 85,
     "metadata": {},
     "output_type": "execute_result"
    }
   ],
   "source": [
    "#test\n",
    "puttcs"
   ]
  },
  {
   "cell_type": "markdown",
   "metadata": {},
   "source": [
    "<u>Question 4:</u>\n",
    "\n",
    "Le montant d'un produit est calculé selon la formule suivante :\n",
    "\n",
    "                montant = puttc * quantité\n",
    "\n",
    "Définir la fonction `calculer_montant` qui clcule et retourne le montant d'un produit étant donné son puttc et sa quantité."
   ]
  },
  {
   "cell_type": "code",
   "execution_count": 86,
   "metadata": {},
   "outputs": [],
   "source": [
    "#?"
   ]
  },
  {
   "cell_type": "code",
   "execution_count": 87,
   "metadata": {},
   "outputs": [
    {
     "data": {
      "text/plain": [
       "5000"
      ]
     },
     "execution_count": 87,
     "metadata": {},
     "output_type": "execute_result"
    }
   ],
   "source": [
    "#test\n",
    "montant=calculer_montant(1000,5)\n",
    "montant"
   ]
  },
  {
   "cell_type": "markdown",
   "metadata": {},
   "source": [
    "<u>Question 5 :</u>\n",
    "\n",
    "Calculer les montants de tous les produits dans la liste `montants` en utilisant la fonction `calculer_montant`."
   ]
  },
  {
   "cell_type": "code",
   "execution_count": 88,
   "metadata": {},
   "outputs": [],
   "source": [
    "#?"
   ]
  },
  {
   "cell_type": "code",
   "execution_count": 89,
   "metadata": {},
   "outputs": [
    {
     "data": {
      "text/plain": [
       "[6605.489000000001, 6932.194500000001, 5776.848000000001]"
      ]
     },
     "execution_count": 89,
     "metadata": {},
     "output_type": "execute_result"
    }
   ],
   "source": [
    "#test\n",
    "montants"
   ]
  },
  {
   "cell_type": "markdown",
   "metadata": {},
   "source": [
    "<b>Etape 3 : Affichage des données</b>\n",
    "\n",
    "\n",
    "Définir la fonction `afficher_produits` qui affiche les informations de tous les produits sous la forme d'une table\n",
    "\n",
    "Vous aurez normalement l'affichage suivant :\n",
    "\n",
    "    label     puht      puttc     montant   quantité\n",
    "    TÉ        1201.0    1321.1    6605.5    5    \n",
    "    RÉF       2100.7    2310.7    6932.2    3    \n",
    "    MIC       350.1     385.1     5776.8    15  "
   ]
  },
  {
   "cell_type": "code",
   "execution_count": 90,
   "metadata": {},
   "outputs": [],
   "source": [
    "#?"
   ]
  },
  {
   "cell_type": "code",
   "execution_count": 91,
   "metadata": {},
   "outputs": [
    {
     "name": "stdout",
     "output_type": "stream",
     "text": [
      "label     puht      puttc     montant   quantité\n",
      "TÉ        1201.0    1321.1    6605.5    5    \n",
      "RÉF       2100.7    2310.7    6932.2    3    \n",
      "MIC       350.1     385.1     5776.8    15   \n"
     ]
    }
   ],
   "source": [
    "#test\n",
    "afficher_produits()"
   ]
  },
  {
   "cell_type": "markdown",
   "metadata": {},
   "source": [
    "<b>Etape 4 : Fonctionalité de recherche</b>"
   ]
  },
  {
   "cell_type": "markdown",
   "metadata": {},
   "source": [
    "<u>Question 1 :</u>\n",
    "\n",
    "Définir la fonction `rechercher_produit` qui recherche un produit étant donné son nom et retourne deux valeurs :\n",
    "- Vrai s'il exsite soinon Faux\n",
    "- L'indice du produit trouvé s'il exsite Sinon `None`"
   ]
  },
  {
   "cell_type": "code",
   "execution_count": 40,
   "metadata": {},
   "outputs": [],
   "source": [
    "#?"
   ]
  },
  {
   "cell_type": "code",
   "execution_count": 44,
   "metadata": {},
   "outputs": [
    {
     "name": "stdout",
     "output_type": "stream",
     "text": [
      "trouve=True,indice=2\n"
     ]
    }
   ],
   "source": [
    "#test\n",
    "trouve,indice_cible=rechercher_produit('micro-onde')\n",
    "print(f\"trouve={trouve},indice={indice_cible}\")"
   ]
  },
  {
   "cell_type": "code",
   "execution_count": 45,
   "metadata": {},
   "outputs": [
    {
     "name": "stdout",
     "output_type": "stream",
     "text": [
      "trouve=False,indice=None\n"
     ]
    }
   ],
   "source": [
    "#test\n",
    "trouve,indice_cible=rechercher_produit('micro')\n",
    "print(f\"trouve={trouve},indice={indice_cible}\")"
   ]
  },
  {
   "cell_type": "markdown",
   "metadata": {},
   "source": [
    "<u>Question 2:</u>\n",
    "\n",
    "Ecrire le code Python qui :\n",
    "- saisit un nom du produit cible\n",
    "- recherche un produit qui porte ce nom cible en utilisant la fonction `rechercher_produit`\n",
    "- Afficher un message selon logique :\n",
    "\n",
    "            Si le produit existe Alors\n",
    "                    Afficher \"Le produit abbreviation_produit n'existe pas dans le stock\"\n",
    "            Sinon\n",
    "                    Afficher \"Le produit nom_produit existe dans le stock\n",
    "                              Son puht est puht_produit\n",
    "                              Sa quantité est quantité_produit\n",
    "                              Son montant est montant_produit\""
   ]
  },
  {
   "cell_type": "code",
   "execution_count": 96,
   "metadata": {},
   "outputs": [
    {
     "name": "stdout",
     "output_type": "stream",
     "text": [
      "Le produit TÉ se trouve !\n",
      "Son puht est 1201.0\n",
      "Sa quantité est 5\n",
      "Son montant est 6605.5\n"
     ]
    }
   ],
   "source": [
    "#?"
   ]
  },
  {
   "cell_type": "markdown",
   "metadata": {},
   "source": [
    "<b>Etape 4 : Calcul des informations sur le stock</u>"
   ]
  },
  {
   "cell_type": "markdown",
   "metadata": {},
   "source": [
    "<u>Question 1 :</u>\n",
    "\n",
    "Calculer le montant total, qui est égale à la somme des montants des produits."
   ]
  },
  {
   "cell_type": "code",
   "execution_count": null,
   "metadata": {},
   "outputs": [],
   "source": [
    "#?"
   ]
  },
  {
   "cell_type": "code",
   "execution_count": 97,
   "metadata": {},
   "outputs": [
    {
     "name": "stdout",
     "output_type": "stream",
     "text": [
      "Le montant total est 19314.5\n"
     ]
    }
   ],
   "source": [
    "#test\n",
    "print(f\"Le montant total est {montant_total:.1f}\")"
   ]
  },
  {
   "cell_type": "markdown",
   "metadata": {},
   "source": [
    "<u>Question 2 :</u>\n",
    "\n",
    "Ecrire un code Python qui détermine le produit le plus rentable (ayant le montant le plus elevé)."
   ]
  },
  {
   "cell_type": "code",
   "execution_count": null,
   "metadata": {},
   "outputs": [],
   "source": [
    "#?"
   ]
  },
  {
   "cell_type": "code",
   "execution_count": 99,
   "metadata": {},
   "outputs": [
    {
     "name": "stdout",
     "output_type": "stream",
     "text": [
      "Le produit le plus rentable est TÉ\n",
      "Son montant est 6932.2\n"
     ]
    }
   ],
   "source": [
    "#test\n",
    "print(f\"Le produit le plus rentable est {labels[indice_cible]}\")\n",
    "print(f\"Son montant est {montant_max:.1f}\")"
   ]
  },
  {
   "cell_type": "markdown",
   "metadata": {},
   "source": [
    "<u>Question 3 :</u>\n",
    "\n",
    "Ecrire un code Python qui trie les informations des produits dans toutes les listes (noms,puhts,quantites,puttcs,montants) selon leurs montants\n",
    "\n",
    "Ce tri est descendant (de produit ayant le plus elevé jusqu'à le plus faible)\n",
    "\n",
    "<font color=red>Note:</font>\n",
    "\n",
    "Utiliser le la méthode de tri que vous convient.\n",
    "\n",
    "<font color=red>Astuce :</font>\n",
    "\n",
    "En Python, on peut permuter les valeurs de deux variables x et y comme suit :\n",
    "\n",
    "        x , y = y , x"
   ]
  },
  {
   "cell_type": "code",
   "execution_count": 100,
   "metadata": {},
   "outputs": [],
   "source": [
    "#?"
   ]
  },
  {
   "cell_type": "code",
   "execution_count": 101,
   "metadata": {},
   "outputs": [
    {
     "name": "stdout",
     "output_type": "stream",
     "text": [
      "label     puht      puttc     montant   quantité\n",
      "TÉ        2100.7    2310.7    6932.2    3    \n",
      "RÉF       1201.0    1321.1    6605.5    5    \n",
      "MIC       350.1     385.1     5776.8    15   \n"
     ]
    }
   ],
   "source": [
    "#test\n",
    "afficher_produits()"
   ]
  }
 ],
 "metadata": {
  "kernelspec": {
   "display_name": "venv",
   "language": "python",
   "name": "python3"
  },
  "language_info": {
   "codemirror_mode": {
    "name": "ipython",
    "version": 3
   },
   "file_extension": ".py",
   "mimetype": "text/x-python",
   "name": "python",
   "nbconvert_exporter": "python",
   "pygments_lexer": "ipython3",
   "version": "3.8.3"
  }
 },
 "nbformat": 4,
 "nbformat_minor": 2
}
