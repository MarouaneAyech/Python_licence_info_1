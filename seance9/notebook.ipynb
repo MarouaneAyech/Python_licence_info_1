{
 "cells": [
  {
   "cell_type": "markdown",
   "metadata": {},
   "source": [
    "<b>Objectifs:</b>\n",
    "- List comprehension\n",
    "- Les fonctions\n",
    "- Arguments positionnels et Arguments optionnels\n",
    "- Variables globales et variables locales"
   ]
  },
  {
   "cell_type": "markdown",
   "metadata": {},
   "source": [
    "<b>List comprehension</b>\n",
    "\n",
    "Le concept de `List Comprehension` est utilisé en Python lorsqu'on veut créer une liste à partir d'une autre liste existante.\n",
    "\n",
    "Syntaxe de base :\n",
    "\n",
    "        liste_new = [ .... for  .... in ...... ]\n",
    "On va comprendre ce mécanisme avec des exemples pratiques:\n",
    "\n",
    "Exemple 1:\n",
    "\n",
    "Soit un stock composé des produits suivants :\n",
    "\n",
    "    Produit         Puht\n",
    "    Télé            1200.75\n",
    "    Micro-onde      350.55\n",
    "    Réfrégirateur   2100.778\n",
    "\n",
    "Ecrire code qui transforme la liste des noms des produits en majuscule"
   ]
  },
  {
   "cell_type": "code",
   "execution_count": 15,
   "metadata": {},
   "outputs": [
    {
     "data": {
      "text/plain": [
       "['TÉLÉ', 'MICRO-ONDE', 'RÉFRÉGIRATEUR']"
      ]
     },
     "execution_count": 15,
     "metadata": {},
     "output_type": "execute_result"
    }
   ],
   "source": [
    "noms=['Télé','Micro-onde','Réfrégirateur']\n",
    "noms_maj=[]\n",
    "for nom in noms:\n",
    "    noms_maj.append(nom.upper())\n",
    "noms_maj"
   ]
  },
  {
   "cell_type": "markdown",
   "metadata": {},
   "source": [
    "Ou"
   ]
  },
  {
   "cell_type": "code",
   "execution_count": 16,
   "metadata": {},
   "outputs": [
    {
     "data": {
      "text/plain": [
       "['TÉLÉ', 'MICRO-ONDE', 'RÉFRÉGIRATEUR']"
      ]
     },
     "execution_count": 16,
     "metadata": {},
     "output_type": "execute_result"
    }
   ],
   "source": [
    "noms=['Télé','Micro-onde','Réfrégirateur']\n",
    "noms_maj=[]\n",
    "for i in range(len(noms)):\n",
    "    noms_maj.append(noms[i].upper())\n",
    "noms_maj"
   ]
  },
  {
   "cell_type": "markdown",
   "metadata": {},
   "source": [
    "Le concept `List Comprehension` permet d'optimiser l'écriture du code ci-dessus :"
   ]
  },
  {
   "cell_type": "code",
   "execution_count": 17,
   "metadata": {},
   "outputs": [
    {
     "data": {
      "text/plain": [
       "['TÉLÉ', 'MICRO-ONDE', 'RÉFRÉGIRATEUR']"
      ]
     },
     "execution_count": 17,
     "metadata": {},
     "output_type": "execute_result"
    }
   ],
   "source": [
    "noms=['Télé','Micro-onde','Réfrégirateur']\n",
    "noms_maj=[nom.upper() for nom in noms ]\n",
    "noms_maj"
   ]
  },
  {
   "cell_type": "markdown",
   "metadata": {},
   "source": [
    "Ou"
   ]
  },
  {
   "cell_type": "code",
   "execution_count": 18,
   "metadata": {},
   "outputs": [
    {
     "data": {
      "text/plain": [
       "['TÉLÉ', 'MICRO-ONDE', 'RÉFRÉGIRATEUR']"
      ]
     },
     "execution_count": 18,
     "metadata": {},
     "output_type": "execute_result"
    }
   ],
   "source": [
    "noms=['Télé','Micro-onde','Réfrégirateur']\n",
    "noms_maj=[noms[i].upper() for i in range(len(noms))]\n",
    "noms_maj"
   ]
  },
  {
   "cell_type": "markdown",
   "metadata": {},
   "source": [
    "Exercice 1 d'application:\n",
    "\n",
    "Utiliser le concept de `List comprehension` pour calculer le prix unitaire tout taxe compris (puttc) des produits tel que :\n",
    "\n",
    "    puttc d'un produit = puht x (1+tva)\n",
    "    et tva=10%"
   ]
  },
  {
   "cell_type": "code",
   "execution_count": null,
   "metadata": {},
   "outputs": [],
   "source": [
    "#?"
   ]
  },
  {
   "cell_type": "markdown",
   "metadata": {},
   "source": [
    "Exemple 2 :\n",
    "\n",
    "Déterminer la liste des noms des produits ayant une longueur > 5"
   ]
  },
  {
   "cell_type": "code",
   "execution_count": 20,
   "metadata": {},
   "outputs": [
    {
     "data": {
      "text/plain": [
       "['Micro-onde', 'Réfrégirateur']"
      ]
     },
     "execution_count": 20,
     "metadata": {},
     "output_type": "execute_result"
    }
   ],
   "source": [
    "noms=['Télé','Micro-onde','Réfrégirateur']\n",
    "noms1=[]\n",
    "for i in range(len(noms)):\n",
    "    if len(noms[i])>5:\n",
    "        noms1.append(noms[i])\n",
    "noms1"
   ]
  },
  {
   "cell_type": "markdown",
   "metadata": {},
   "source": [
    "En utilisant `List Comprehension`"
   ]
  },
  {
   "cell_type": "code",
   "execution_count": 23,
   "metadata": {},
   "outputs": [
    {
     "data": {
      "text/plain": [
       "['Micro-onde', 'Réfrégirateur']"
      ]
     },
     "execution_count": 23,
     "metadata": {},
     "output_type": "execute_result"
    }
   ],
   "source": [
    "noms=['Télé','Micro-onde','Réfrégirateur']\n",
    "noms1=[noms[i] for i in range(len(noms)) if len(noms[i])>5 ]\n",
    "noms1"
   ]
  },
  {
   "cell_type": "markdown",
   "metadata": {},
   "source": [
    "Exercice 2 d'application\n",
    "\n",
    "Utiliser le concept de `List comprehension` pour calculer le prix unitaire tout taxe compris (puttc) des produits ayant puht>1000 tel que :\n",
    "\n",
    "    puttc d'un produit = puht x (1+tva)\n",
    "    et tva=10%"
   ]
  },
  {
   "cell_type": "code",
   "execution_count": null,
   "metadata": {},
   "outputs": [],
   "source": [
    "#?"
   ]
  },
  {
   "cell_type": "markdown",
   "metadata": {},
   "source": [
    "Exemple 3:\n",
    "\n",
    "On veut mettre les abreviations des noms des produits dans une liste à partir de leurs noms comme suit :\n",
    "\n",
    "        Si longueur de nom>5 Alors abreviation est composé de 3 premières lettres en majuscule\n",
    "        Sinon Elle est composé de 2 première lettres en majuscule\n",
    "\n",
    "Note :\n",
    "\n",
    "Le syntaxe de la `List Comprehension` à uutiliser necessite `if ... else .....`.\n",
    "\n",
    "Il est écrit comme suit :\n",
    "\n",
    "        liste_new = [ exp1 if condition1 else exp2 for .... in ......]\n",
    "\n",
    "Complétez le code :"
   ]
  },
  {
   "cell_type": "code",
   "execution_count": 24,
   "metadata": {},
   "outputs": [
    {
     "data": {
      "text/plain": [
       "['Té', 'Mic', 'Réf']"
      ]
     },
     "execution_count": 24,
     "metadata": {},
     "output_type": "execute_result"
    }
   ],
   "source": [
    "noms=['Télé','Micro-onde','Réfrégirateur']\n",
    "noms1=[#? if #? else #? for i in range(len(noms)) ]\n",
    "noms1"
   ]
  },
  {
   "cell_type": "markdown",
   "metadata": {},
   "source": [
    "Exemple 3 d'application:\n",
    "\n",
    "Déterminer les puttcs des produits étant donné la liste de leurs puhts tel que :\n",
    "    \n",
    "    puttc = puht x (1+tva)\n",
    "\n",
    "    et\n",
    "    \n",
    "    if puht<1000 Alors tva=10%\n",
    "    else tva=15%"
   ]
  },
  {
   "cell_type": "markdown",
   "metadata": {},
   "source": [
    "<b>Les fonctions</b>\n",
    "\n",
    "En Python, Le concept de fonction s'effectue en 2 étapes (comme tous les autres langages de programmation) :\n",
    "- Définition de la fonction\n",
    "\n",
    "        Syntaxe:\n",
    "\n",
    "        def nom_fonction(arg1,arg2, ...):\n",
    "            # code\n",
    "            return val_ret1,val_ret2, ...\n",
    "- Appel de la fonction\n",
    "\n",
    "        Syntaxe:\n",
    "        vr1,vr2,...=nom_fonction(a1,a2,...)"
   ]
  },
  {
   "cell_type": "markdown",
   "metadata": {},
   "source": [
    "Exemple 1\n",
    "\n",
    "Définir une fonction qui calcule et retourne la somme de deux entiers"
   ]
  },
  {
   "cell_type": "code",
   "execution_count": 1,
   "metadata": {},
   "outputs": [],
   "source": [
    "# Définition\n",
    "def somme(x,y):\n",
    "    z=x+y\n",
    "    return x+y"
   ]
  },
  {
   "cell_type": "code",
   "execution_count": 3,
   "metadata": {},
   "outputs": [
    {
     "data": {
      "text/plain": [
       "9"
      ]
     },
     "execution_count": 3,
     "metadata": {},
     "output_type": "execute_result"
    }
   ],
   "source": [
    "# Appel\n",
    "s=somme(4,5)\n",
    "s"
   ]
  },
  {
   "cell_type": "markdown",
   "metadata": {},
   "source": [
    "Exercice d'application 1\n",
    "\n",
    "Définir une fonction qui calcule et retourne le prix unitaire tout taxe compris (puttc) étant donné le prix unitaire hors taxe (puht) et tva.\n",
    "\n",
    "            puttc = puht x (1+tva)"
   ]
  },
  {
   "cell_type": "code",
   "execution_count": null,
   "metadata": {},
   "outputs": [],
   "source": [
    "#?"
   ]
  },
  {
   "cell_type": "markdown",
   "metadata": {},
   "source": [
    "Exemple 2\n",
    "\n",
    "Définir une fonction qui affiche la somme de deux entiers"
   ]
  },
  {
   "cell_type": "code",
   "execution_count": 6,
   "metadata": {},
   "outputs": [],
   "source": [
    "def afficher_somme(x,y):\n",
    "    print(f\"{x:^5d}+{y:^5d}={x+y:^5d}\")"
   ]
  },
  {
   "cell_type": "code",
   "execution_count": 7,
   "metadata": {},
   "outputs": [
    {
     "name": "stdout",
     "output_type": "stream",
     "text": [
      "  4  +  5  =  9  \n"
     ]
    }
   ],
   "source": [
    "afficher_somme(4,5)"
   ]
  },
  {
   "cell_type": "markdown",
   "metadata": {},
   "source": [
    "Exercice 2 d'application\n",
    "\n",
    "Définir une fonction qui affiche les informations d'un produit étant donné son nom et son puht.\n",
    "\n",
    "Le format d'affichage est :\n",
    "- nom sur 10 caractères et aligné à gauche\n",
    "- puht sur 10 caractères aligné à gauche et arrondi à 1 chiffre "
   ]
  },
  {
   "cell_type": "code",
   "execution_count": null,
   "metadata": {},
   "outputs": [],
   "source": [
    "#?"
   ]
  },
  {
   "cell_type": "markdown",
   "metadata": {},
   "source": [
    "Exemple 3\n",
    "\n",
    "Définir une fonction qui retourne la somme et la différence entre les puhts de deux produits"
   ]
  },
  {
   "cell_type": "code",
   "execution_count": 25,
   "metadata": {},
   "outputs": [],
   "source": [
    "def somme_difference(puht1, puht2):\n",
    "    return puht1+puht2, puht1-puht2"
   ]
  },
  {
   "cell_type": "code",
   "execution_count": 26,
   "metadata": {},
   "outputs": [],
   "source": [
    "s,d=somme_difference(1200.75,350.55)"
   ]
  },
  {
   "cell_type": "code",
   "execution_count": 27,
   "metadata": {},
   "outputs": [
    {
     "data": {
      "text/plain": [
       "1551.3"
      ]
     },
     "execution_count": 27,
     "metadata": {},
     "output_type": "execute_result"
    }
   ],
   "source": [
    "s"
   ]
  },
  {
   "cell_type": "code",
   "execution_count": 28,
   "metadata": {},
   "outputs": [
    {
     "data": {
      "text/plain": [
       "850.2"
      ]
     },
     "execution_count": 28,
     "metadata": {},
     "output_type": "execute_result"
    }
   ],
   "source": [
    "d"
   ]
  },
  {
   "cell_type": "markdown",
   "metadata": {},
   "source": [
    "Exercice 3 d'application:\n",
    "\n",
    "Définir une fonction qui retourne le nom du premier produit et le nom de dernier produit étant donné la liste des noms "
   ]
  },
  {
   "cell_type": "code",
   "execution_count": null,
   "metadata": {},
   "outputs": [],
   "source": [
    "#?"
   ]
  },
  {
   "cell_type": "markdown",
   "metadata": {},
   "source": [
    "<b>Arguments positionnels et Arguments optionnels</b>\n",
    "\n",
    "En Python, on peut mettre spécifier dans les fonctions des arguments avec des valeurs par défauts appelés `arguments optionnels`.\n",
    "\n",
    "Ces arguments doivent figurer à droite.\n",
    "\n",
    "Les arguments qui n'ont pas des valeurs par défaut sont appelés `arguments positionnels`.\n",
    "\n",
    "Lors de l'appel de la fonction:\n",
    "- Les arguments positionnels doivent être passés.\n",
    "- Les arguments optionnels peuvent être oubliés. S'ils sont passés ils écrasent leurs valeurs par défaut."
   ]
  },
  {
   "cell_type": "markdown",
   "metadata": {},
   "source": [
    "Exemple 4\n",
    "\n",
    "Définir une fonction qui calcule et retourne le puttc étant donné puht. \n",
    "\n",
    "La valeur de tva de la majorité des produits est 10%"
   ]
  },
  {
   "cell_type": "code",
   "execution_count": null,
   "metadata": {},
   "outputs": [],
   "source": [
    "#?"
   ]
  },
  {
   "cell_type": "code",
   "execution_count": null,
   "metadata": {},
   "outputs": [],
   "source": [
    "puttc=calculer_puttc(300)\n",
    "puttc"
   ]
  },
  {
   "cell_type": "code",
   "execution_count": null,
   "metadata": {},
   "outputs": [],
   "source": [
    "puttc=calculer_puttc(1200,0.15)\n",
    "puttc"
   ]
  },
  {
   "cell_type": "markdown",
   "metadata": {},
   "source": [
    "<b>Variables globales et variables locales</b>\n",
    "\n",
    "En Python, les variables déclarées dans les fonctions, y compris les arguments, sont appelés des variables locales.\n",
    "\n",
    "Les variables déclarées en dehors des fonctions sont appelées variables globales.\n",
    "\n",
    "ces variables globales sont accessibles seulement en lecture dans les fonctions.\n",
    "\n",
    "Pour une varibale globale `x` modifiable dans une fonction, ajouter la ligne suivante au début de la fonction :\n",
    "\n",
    "        global x"
   ]
  },
  {
   "cell_type": "markdown",
   "metadata": {},
   "source": [
    "Exemple 5\n",
    "\n",
    "Dans un code de gestion de stok, l'information de tva est utile pour plusieurs opérations de calculs. Dans ce cas, il est recommandé de la déclarer comme `variable globale`. \n",
    "\n",
    "Donc, vous allez déclarer `tva` comme information globale égale à 10%.\n",
    "\n",
    "Puis, vous allez l'utiliser dans la définition des fonctions suivantes :\n",
    "- calculer et retourner puttc\n",
    "- augmenter tva par uen quantité"
   ]
  },
  {
   "cell_type": "code",
   "execution_count": null,
   "metadata": {},
   "outputs": [],
   "source": [
    "tva=0.1"
   ]
  },
  {
   "cell_type": "code",
   "execution_count": null,
   "metadata": {},
   "outputs": [],
   "source": [
    "def calculer_puttc(puht):\n",
    "    puttc=puht*(1+tva)\n",
    "    return puttc"
   ]
  },
  {
   "cell_type": "code",
   "execution_count": 29,
   "metadata": {},
   "outputs": [],
   "source": [
    "def augmenter_puht(v):\n",
    "    #?\n",
    "    tva+=v"
   ]
  },
  {
   "cell_type": "markdown",
   "metadata": {},
   "source": [
    "Remarque:\n",
    "\n",
    "Les variables listes sont souvent déclarées comme variables globales parec qu'elles allouent assez de mémoire.\n",
    "\n",
    "Ainsi en Python, si on déclare une liste comme une variable globale, elle est par défaut modifiable dans les définitions des fonctions sans avoir besoin de l'indiquer avec le mot-clé `global`"
   ]
  },
  {
   "cell_type": "markdown",
   "metadata": {},
   "source": [
    "Exemple 6\n",
    "\n",
    "Soit la liste des prix unitaires hors taxe des produits.\n",
    "\n",
    "On veut définir une fonction `appliquer_solde` qui permet d'appliquer un solde (pourcentage de réduction) seulement sur les produits ayant un prix unitaire hors taxe < 1000\n",
    "\n",
    "    Produit         Puht\n",
    "    Télé            1200.75\n",
    "    Micro-onde      350.55\n",
    "    Réfrégirateur   2100.778"
   ]
  },
  {
   "cell_type": "code",
   "execution_count": 30,
   "metadata": {},
   "outputs": [],
   "source": [
    "puhts=[1200.75,350.55,2100.778]"
   ]
  },
  {
   "cell_type": "code",
   "execution_count": null,
   "metadata": {},
   "outputs": [],
   "source": [
    "def appliquer_solde():\n",
    "    #?"
   ]
  }
 ],
 "metadata": {
  "kernelspec": {
   "display_name": "venv",
   "language": "python",
   "name": "python3"
  },
  "language_info": {
   "codemirror_mode": {
    "name": "ipython",
    "version": 3
   },
   "file_extension": ".py",
   "mimetype": "text/x-python",
   "name": "python",
   "nbconvert_exporter": "python",
   "pygments_lexer": "ipython3",
   "version": "3.8.3"
  }
 },
 "nbformat": 4,
 "nbformat_minor": 2
}
