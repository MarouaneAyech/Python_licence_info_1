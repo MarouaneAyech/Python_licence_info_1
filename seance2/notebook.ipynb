{
 "cells": [
  {
   "cell_type": "markdown",
   "metadata": {},
   "source": [
    "Flux conditionnel avec if\n",
    "\n",
    "On peut implémenter un contrôle de flux avec `if` selon l'un de 3 syntaxes suivants :\n",
    "\n",
    "- Syntaxe 1 :\n",
    "\n",
    "        if condition :\n",
    "            # action\n",
    "            # ...\n",
    "\n",
    "- Syntaxe 2 :\n",
    "\n",
    "        if condition :\n",
    "            # action\n",
    "            # ...\n",
    "        else :\n",
    "            # action\n",
    "            # ...\n",
    "\n",
    "- Syntaxe 3 :\n",
    "\n",
    "        if condition :\n",
    "            # action\n",
    "            # ...\n",
    "        elif condition :\n",
    "            # action\n",
    "            # ...\n",
    "        elif condition :\n",
    "            # ...\n",
    "        else :\n",
    "            # action\n",
    "            # ..."
   ]
  },
  {
   "cell_type": "markdown",
   "metadata": {},
   "source": [
    "Exemple 1:\n",
    "\n",
    "Si un entier saisi est positif Afficher qu'il est positif"
   ]
  },
  {
   "cell_type": "code",
   "execution_count": 3,
   "metadata": {},
   "outputs": [
    {
     "name": "stdout",
     "output_type": "stream",
     "text": [
      "10 est positif\n"
     ]
    }
   ],
   "source": [
    "nombre=int(input('Entrer un  entier:'))\n",
    "if nombre>=0:\n",
    "    print(nombre,'est positif')"
   ]
  },
  {
   "cell_type": "markdown",
   "metadata": {},
   "source": [
    "Exemple 2:\n",
    "\n",
    "Si un entier saisi est positif Afficher qu'il est positif\n",
    "\n",
    "Sinon Afficher qu'il est négatif"
   ]
  },
  {
   "cell_type": "code",
   "execution_count": 4,
   "metadata": {},
   "outputs": [
    {
     "name": "stdout",
     "output_type": "stream",
     "text": [
      "-10 est négatif\n"
     ]
    }
   ],
   "source": [
    "nombre=int(input('Entrer un  entier:'))\n",
    "if nombre>=0:\n",
    "    print(nombre,'est positif')\n",
    "else:\n",
    "    print(nombre,'est négatif')"
   ]
  },
  {
   "cell_type": "markdown",
   "metadata": {},
   "source": [
    "Exemple 3:\n",
    "\n",
    "Si un entier saisi est positif Afficher qu'il est positif\n",
    "\n",
    "SinSi l'entier est négatif Afficher qu'il négatif\n",
    "\n",
    "Sinon Afficher qu'il est nul"
   ]
  },
  {
   "cell_type": "code",
   "execution_count": 5,
   "metadata": {},
   "outputs": [
    {
     "name": "stdout",
     "output_type": "stream",
     "text": [
      "0 est nulle\n"
     ]
    }
   ],
   "source": [
    "# Ecrire un code qui permet de saisir un entier et qui affiche s'il est positif, negatif ou null\n",
    "nombre=int(input('Entrer un  entier:'))\n",
    "if nombre>0:\n",
    "    print(nombre,'est positif')\n",
    "elif nombre<0 :\n",
    "    print(nombre,'est negatif')\n",
    "else:\n",
    "    print(nombre,'est nulle')"
   ]
  },
  {
   "cell_type": "markdown",
   "metadata": {},
   "source": [
    "<b>Exercice 1 :</b>\n",
    "\n",
    "Saisir une note, puis afficher sa mention selon l'intervalle suivant :\n",
    "- Si 0<=note<10 Alors mention est faible\n",
    "- Si 10<=note<=12 Alors la mention est passable\n",
    "- Si 12<=note<=14 Alors la mention est assez bien\n",
    "- Si 14<=note<16 Alors la mention est bien\n",
    "- Si 16<=mention<=20 Alors la mention est très bien\n",
    "- Sinon la mention est inconnue !"
   ]
  },
  {
   "cell_type": "code",
   "execution_count": 6,
   "metadata": {},
   "outputs": [
    {
     "name": "stdout",
     "output_type": "stream",
     "text": [
      "La mention de 21.0 est inconnue !!\n"
     ]
    }
   ],
   "source": [
    "note=float(input('Entrez une note'))\n",
    "if 0<=note<10:\n",
    "    print(note,'a la mention faible')\n",
    "elif 10<=note<12:\n",
    "    print(note,'a la mention passable')\n",
    "elif 12<=note<14:\n",
    "    print(note,'a la mention assez bien')\n",
    "elif 14<=note<16:\n",
    "    print(note,'a la mention bien')\n",
    "elif 16<=note<20:\n",
    "    print(note,'a la mention très bien')\n",
    "else:\n",
    "    print('La mention de',note,'est inconnue !!')"
   ]
  },
  {
   "cell_type": "markdown",
   "metadata": {},
   "source": [
    "<b>Exercice 2</b>\n",
    "\n",
    "Demander à l'utilisateur de saisir deux nombres entiers et un opérateur.\n",
    "\n",
    "Puis, afficher le résultat de l'opération.\n",
    "\n",
    "<u>Exemple:</u>\n",
    "\n",
    "        Entrez un nombre entier : 10\n",
    "        Entrez un nombre entier : 2\n",
    "        Entrez un oéprateur : -\n",
    "        10-2=8"
   ]
  },
  {
   "cell_type": "code",
   "execution_count": 9,
   "metadata": {},
   "outputs": [
    {
     "name": "stdout",
     "output_type": "stream",
     "text": [
      "3 - 2 = 1\n"
     ]
    }
   ],
   "source": [
    "nombre1=int(input('Entrez un nombre entier :'))\n",
    "nombre2=int(input('Entrez un nombre entier :'))\n",
    "op=input('Entrez un opérateur :')\n",
    "if op=='+':\n",
    "    r=nombre1+nombre2\n",
    "    print(nombre1,op,nombre2,'=',r)\n",
    "elif op=='-':\n",
    "    r=nombre1-nombre2\n",
    "    print(nombre1,op,nombre2,'=',r)\n",
    "elif op=='*':\n",
    "    r=nombre1*nombre2\n",
    "    print(nombre1,op,nombre2,'=',r)\n",
    "elif op=='/':\n",
    "    if nombre2!=0:\n",
    "        r=nombre1/nombre2\n",
    "        print(nombre1,op,nombre2,'=',r)\n",
    "    else:\n",
    "        print('Division par 0 est impossible !!')\n",
    "else:\n",
    "    print(op,'est inconnu !!')"
   ]
  }
 ],
 "metadata": {
  "kernelspec": {
   "display_name": "Python 3",
   "language": "python",
   "name": "python3"
  },
  "language_info": {
   "codemirror_mode": {
    "name": "ipython",
    "version": 3
   },
   "file_extension": ".py",
   "mimetype": "text/x-python",
   "name": "python",
   "nbconvert_exporter": "python",
   "pygments_lexer": "ipython3",
   "version": "3.8.15"
  }
 },
 "nbformat": 4,
 "nbformat_minor": 2
}
